{
 "cells": [
  {
   "cell_type": "markdown",
   "metadata": {},
   "source": [
    "# Init"
   ]
  },
  {
   "cell_type": "code",
   "execution_count": 1,
   "metadata": {},
   "outputs": [
    {
     "name": "stderr",
     "output_type": "stream",
     "text": [
      "/home/ubuntu/anaconda3/envs/tensorflow_p36/lib/python3.6/site-packages/h5py/__init__.py:36: FutureWarning: Conversion of the second argument of issubdtype from `float` to `np.floating` is deprecated. In future, it will be treated as `np.float64 == np.dtype(float).type`.\n",
      "  from ._conv import register_converters as _register_converters\n"
     ]
    }
   ],
   "source": [
    "import glob\n",
    "import numpy as np\n",
    "import datetime as dt\n",
    "import pytz\n",
    "from tensorflow.python.summary import summary_iterator\n",
    "def get_events(run, x_axis='step'):\n",
    "  \"\"\"Returns event dictionary for given run, has form\n",
    "  {tag1: {step1: val1}, tag2: ..}\n",
    "\n",
    "  If x_axis is set to \"time\", step is replaced by timestamp\n",
    "  \"\"\"\n",
    "  result = {}\n",
    "  for fname in glob.glob(f'/efs/runs/{run}/events*'):\n",
    "    print(\"Parsing \"+fname)\n",
    "    events = summary_iterator.summary_iterator(fname)\n",
    "\n",
    "    for event in events:\n",
    "      if x_axis == 'step':\n",
    "        x_val = event.step\n",
    "      elif x_axis == 'time':\n",
    "        x_val = event.wall_time\n",
    "      else:\n",
    "        assert False, f\"Unknown x_axis ({x_axis})\"\n",
    "        \n",
    "      vals = {val.tag: val.simple_value for val in event.summary.value}\n",
    "      # step_time: value\n",
    "      for tag in vals:\n",
    "        event_dict = result.setdefault(tag, {})\n",
    "        if x_val in event_dict:\n",
    "          print(f\"Warning, overwriting {tag} for {x_axis}={x_val}\")\n",
    "          print(f\"old val={event_dict[x_val]}\")\n",
    "          print(f\"new val={vals[tag]}\")\n",
    "\n",
    "        event_dict[x_val] = vals[tag]\n",
    "        \n",
    "  return result\n",
    "\n",
    "def datetime_from_seconds(seconds, timezone=\"US/Pacific\"):\n",
    "  \"\"\"\n",
    "  timezone: pytz timezone name to use for conversion, ie, UTC or US/Pacific\n",
    "  \"\"\"\n",
    "  return dt.datetime.fromtimestamp(seconds, pytz.timezone(timezone))\n",
    "\n",
    "def plot(d):\n",
    "    xs = [item[0] for item in d.items()]\n",
    "    ys = [item[1] for item in d.items()]\n",
    "    plt.plot(xs, ys)\n",
    "def plot2(d1,d2):\n",
    "    xs1 = [item[0] for item in d1.items()]\n",
    "    ys1 = [item[1] for item in d1.items()]\n",
    "    xs2 = [item[0] for item in d2.items()]\n",
    "    ys2 = [item[1] for item in d2.items()]\n",
    "    plt.plot(xs1, ys1, xs2, ys2)"
   ]
  },
  {
   "cell_type": "markdown",
   "metadata": {},
   "source": [
    "# Queries"
   ]
  },
  {
   "cell_type": "markdown",
   "metadata": {},
   "source": [
    "## Tracking down event line break"
   ]
  },
  {
   "cell_type": "code",
   "execution_count": 7,
   "metadata": {},
   "outputs": [
    {
     "name": "stdout",
     "output_type": "stream",
     "text": [
      "Parsing /efs/runs/deleteme/events.out.tfevents.1533146384.ip-192-168-45-167\n",
      "Parsing /efs/runs/wed-two-machines/events.out.tfevents.1533146908.ip-192-168-42-161\n"
     ]
    },
    {
     "data": {
      "text/plain": [
       "[<matplotlib.lines.Line2D at 0x7f3243892978>]"
      ]
     },
     "execution_count": 7,
     "metadata": {},
     "output_type": "execute_result"
    },
    {
     "data": {
      "image/png": "[encoded data removed]",
      "text/plain": [
       "<Figure size 432x288 with 1 Axes>"
      ]
     },
     "metadata": {},
     "output_type": "display_data"
    }
   ],
   "source": [
    "%matplotlib inline\n",
    "import matplotlib.pyplot as plt\n",
    "events_dict=get_events('deleteme')\n",
    "events1 = events_dict['lr']\n",
    "events_dict=get_events('wed-two-machines')\n",
    "events2 = events_dict['lr']\n",
    "plt.ylabel('loss')\n",
    "plt.xlabel('step')\n",
    "plt.title(\"training loss\")\n",
    "plt.plot(events1.values())\n",
    "plt.plot(events2.values())"
   ]
  },
  {
   "cell_type": "code",
   "execution_count": 8,
   "metadata": {},
   "outputs": [
    {
     "data": {
      "text/plain": [
       "{1536: 0.400070458650589,\n",
       " 1282560: 0.4588235318660736,\n",
       " 1284096: 0.4588939845561981,\n",
       " 2565120: 0.5176470875740051,\n",
       " 2566656: 0.5177174806594849,\n",
       " 3847680: 0.5764706134796143,\n",
       " 3849216: 0.576541006565094,\n",
       " 5130240: 0.6352941393852234,\n",
       " 5131776: 0.6353645920753479,\n",
       " 6412800: 0.6941176652908325,\n",
       " 6414336: 0.694188117980957,\n",
       " 7695360: 0.7529411911964417,\n",
       " 7696896: 0.4000000059604645,\n",
       " 26935296: 0.03999999910593033,\n",
       " 44891136: 0.004000000189989805,\n",
       " 55150080: 0.00039999998989515007}"
      ]
     },
     "execution_count": 8,
     "metadata": {},
     "output_type": "execute_result"
    }
   ],
   "source": [
    "events1"
   ]
  },
  {
   "cell_type": "code",
   "execution_count": 9,
   "metadata": {},
   "outputs": [
    {
     "data": {
      "text/plain": [
       "{3072: 0.8002551794052124,\n",
       " 1284096: 0.9066666960716248,\n",
       " 1287168: 0.9069218635559082,\n",
       " 2568192: 1.0133333206176758,\n",
       " 2571264: 1.013588547706604,\n",
       " 3852288: 1.1200000047683716,\n",
       " 3855360: 1.1202552318572998,\n",
       " 5136384: 1.2266666889190674,\n",
       " 5139456: 1.226921796798706,\n",
       " 6420480: 1.3333333730697632,\n",
       " 6423552: 1.3335884809494019,\n",
       " 7704576: 1.440000057220459,\n",
       " 7707648: 1.4402551651000977,\n",
       " 8988672: 1.5466666221618652,\n",
       " 8991744: 0.800000011920929,\n",
       " 30821376: 0.07999999821186066,\n",
       " 50082816: 0.00800000037997961,\n",
       " 61634560: 0.0007999999797903001}"
      ]
     },
     "execution_count": 9,
     "metadata": {},
     "output_type": "execute_result"
    }
   ],
   "source": [
    "events2"
   ]
  },
  {
   "cell_type": "code",
   "execution_count": null,
   "metadata": {},
   "outputs": [],
   "source": [
    "peak #1 at 7695360\n",
    "peak #2 at 8988672\n",
    "batch_size1 = 1536\n",
    "batch_size2 = 3072\n",
    "log every: 30720 examples "
   ]
  },
  {
   "cell_type": "markdown",
   "metadata": {},
   "source": [
    "## Figure out frequency of spikes"
   ]
  },
  {
   "cell_type": "code",
   "execution_count": null,
   "metadata": {},
   "outputs": [],
   "source": [
    "peak #1 at 7695360\n",
    "peak #2 at 8988672\n",
    "batch_size1 = 1536\n",
    "batch_size2 = 3072\n",
    "log every: 30720 examples "
   ]
  },
  {
   "cell_type": "code",
   "execution_count": 22,
   "metadata": {},
   "outputs": [
    {
     "name": "stdout",
     "output_type": "stream",
     "text": [
      "Parsing /efs/runs/pillow-one/events.out.tfevents.1533160638.ip-192-168-39-101\n",
      "Parsing /efs/runs/pillow-two/events.out.tfevents.1533160937.ip-192-168-45-119\n"
     ]
    },
    {
     "data": {
      "image/png": "[encoded data removed]",
      "text/plain": [
       "<Figure size 432x288 with 1 Axes>"
      ]
     },
     "metadata": {},
     "output_type": "display_data"
    }
   ],
   "source": [
    "%matplotlib inline\n",
    "import matplotlib.pyplot as plt\n",
    "events_dict=get_events('pillow-one')\n",
    "events1 = events_dict['losses/xent']\n",
    "events_dict=get_events('pillow-two')\n",
    "events2 = events_dict['losses/xent']\n",
    "plt.ylabel('loss')\n",
    "plt.xlabel('step')\n",
    "plt.title(\"training loss\")\n",
    "plot2(events1, events2)"
   ]
  },
  {
   "cell_type": "code",
   "execution_count": 23,
   "metadata": {},
   "outputs": [
    {
     "data": {
      "image/png": "[encoded data removed]",
      "text/plain": [
       "<Figure size 432x288 with 1 Axes>"
      ]
     },
     "metadata": {},
     "output_type": "display_data"
    }
   ],
   "source": [
    "plot(events2)"
   ]
  },
  {
   "cell_type": "code",
   "execution_count": 27,
   "metadata": {},
   "outputs": [
    {
     "data": {
      "text/plain": [
       "[<matplotlib.lines.Line2D at 0x7f323fe4b390>]"
      ]
     },
     "execution_count": 27,
     "metadata": {},
     "output_type": "execute_result"
    },
    {
     "data": {
      "image/png": "[encoded data removed]",
      "text/plain": [
       "<Figure size 432x288 with 1 Axes>"
      ]
     },
     "metadata": {},
     "output_type": "display_data"
    }
   ],
   "source": [
    "plt.plot(list(events2.values())[1000:])"
   ]
  },
  {
   "cell_type": "code",
   "execution_count": 30,
   "metadata": {},
   "outputs": [],
   "source": [
    "def pos_top(a, k):\n",
    "  \"\"\"Positions of top k entries in a\"\"\"\n",
    "  return sorted(range(len(a)), key=lambda i: a[i])[-k:]"
   ]
  },
  {
   "cell_type": "code",
   "execution_count": 37,
   "metadata": {},
   "outputs": [],
   "source": [
    "# positions of peaks\n",
    "peak_pos = sorted(pos_top(list(events2.values())[1000:], 9))"
   ]
  },
  {
   "cell_type": "code",
   "execution_count": 42,
   "metadata": {},
   "outputs": [],
   "source": [
    "# step values of peaks\n",
    "step_vals = np.array(list(events2.keys())[1000:])[peak_pos]"
   ]
  },
  {
   "cell_type": "code",
   "execution_count": 43,
   "metadata": {},
   "outputs": [
    {
     "data": {
      "text/plain": [
       "array([1284096, 1284096, 1284096, 1284096, 1284096, 1284096, 1284096,\n",
       "       1284096])"
      ]
     },
     "execution_count": 43,
     "metadata": {},
     "output_type": "execute_result"
    }
   ],
   "source": [
    "# deltas\n",
    "np.ediff1d(step_vals)"
   ]
  },
  {
   "cell_type": "markdown",
   "metadata": {},
   "source": [
    "# Runs"
   ]
  },
  {
   "cell_type": "markdown",
   "metadata": {},
   "source": [
    "## Thu 8-machine run"
   ]
  },
  {
   "cell_type": "code",
   "execution_count": 39,
   "metadata": {},
   "outputs": [
    {
     "name": "stdout",
     "output_type": "stream",
     "text": [
      "Parsing /efs/runs/thu-eight/events.out.tfevents.1533244938.ip-192-168-46-102\n",
      "2018-08-02_14-24-21 13.640000343322754\n",
      "2018-08-02_14-24-55 22.889999389648438\n",
      "2018-08-02_14-25-27 37.18199920654297\n",
      "2018-08-02_14-25-58 47.24599838256836\n",
      "2018-08-02_14-26-29 40.4640007019043\n",
      "2018-08-02_14-27-01 47.784000396728516\n",
      "2018-08-02_14-27-32 59.805999755859375\n",
      "2018-08-02_14-28-03 68.0820083618164\n",
      "2018-08-02_14-28-34 66.62999725341797\n",
      "2018-08-02_14-29-05 65.56000518798828\n",
      "2018-08-02_14-29-35 68.77600860595703\n",
      "2018-08-02_14-30-06 67.19600677490234\n",
      "2018-08-02_14-30-36 69.59200286865234\n",
      "2018-08-02_14-31-13 64.73600769042969\n",
      "2018-08-02_14-31-43 69.56600189208984\n",
      "2018-08-02_14-32-14 70.63999938964844\n",
      "2018-08-02_14-33-28 73.73200225830078\n",
      "2018-08-02_14-34-25 77.93399810791016\n",
      "2018-08-02_14-35-22 75.27200317382812\n",
      "2018-08-02_14-36-19 88.86599731445312\n",
      "2018-08-02_14-37-15 89.11599731445312\n",
      "2018-08-02_14-38-11 89.4219970703125\n",
      "2018-08-02_14-39-08 89.73600006103516\n",
      "2018-08-02_14-40-04 89.8239974975586\n",
      "2018-08-02_14-41-00 90.06199645996094\n",
      "2018-08-02_14-41-57 90.19000244140625\n",
      "2018-08-02_14-42-53 89.91200256347656\n",
      "2018-08-02_14-43-50 90.21199798583984\n",
      "2018-08-02_14-44-47 89.89399719238281\n",
      "2018-08-02_14-45-44 89.89600372314453\n",
      "2018-08-02_14-46-41 89.552001953125\n",
      "2018-08-02_14-47-39 91.36599731445312\n",
      "2018-08-02_14-48-36 91.44200134277344\n",
      "2018-08-02_14-49-34 91.5979995727539\n",
      "2018-08-02_14-50-31 91.51799774169922\n",
      "2018-08-02_14-51-27 91.55000305175781\n",
      "2018-08-02_14-52-24 91.552001953125\n",
      "2018-08-02_14-54-36 93.06400299072266\n"
     ]
    }
   ],
   "source": [
    "# Get test losses with timestamps\n",
    "events_dict=get_events('thu-eight', 'time')\n",
    "events = events_dict['losses/test_5']\n",
    "for key in events:\n",
    "  print(datetime_from_seconds(key).strftime(\"%Y-%m-%d_%H-%M-%S\"), events[key])\n",
    "  if events[key]>=93:\n",
    "    end_time = key\n",
    "    break"
   ]
  },
  {
   "cell_type": "code",
   "execution_count": 41,
   "metadata": {},
   "outputs": [
    {
     "name": "stdout",
     "output_type": "stream",
     "text": [
      "2018-08-02_14-23-32 128.0\n"
     ]
    }
   ],
   "source": [
    "# Get time of first event (this is logged for first image)\n",
    "events = events_dict['sizes/image']\n",
    "for key in events:\n",
    "  print(datetime_from_seconds(key).strftime(\"%Y-%m-%d_%H-%M-%S\"), events[key])\n",
    "  start_time = key\n",
    "  break"
   ]
  },
  {
   "cell_type": "code",
   "execution_count": 45,
   "metadata": {},
   "outputs": [],
   "source": [
    "duration_sec = end_time-start_time"
   ]
  },
  {
   "cell_type": "code",
   "execution_count": 46,
   "metadata": {},
   "outputs": [
    {
     "data": {
      "text/plain": [
       "'31.0 minutes, 3.370328903198242 seconds'"
      ]
     },
     "execution_count": 46,
     "metadata": {},
     "output_type": "execute_result"
    }
   ],
   "source": [
    "f\"{duration_sec//60} minutes, {duration_sec%60} seconds\""
   ]
  },
  {
   "cell_type": "markdown",
   "metadata": {},
   "source": [
    "### Subtract evaluation time"
   ]
  },
  {
   "cell_type": "code",
   "execution_count": 49,
   "metadata": {},
   "outputs": [
    {
     "name": "stdout",
     "output_type": "stream",
     "text": [
      "2018-08-02_14-24-21 1.0485830307006836\n",
      "2018-08-02_14-24-55 0.8416521549224854\n",
      "2018-08-02_14-25-27 0.6570076942443848\n",
      "2018-08-02_14-25-58 0.6457502841949463\n",
      "2018-08-02_14-26-29 0.5125820636749268\n",
      "2018-08-02_14-27-01 0.6995992660522461\n",
      "2018-08-02_14-27-32 0.5794594287872314\n",
      "2018-08-02_14-28-03 0.32988905906677246\n",
      "2018-08-02_14-28-34 0.4296715259552002\n",
      "2018-08-02_14-29-05 1.080749750137329\n",
      "2018-08-02_14-29-35 0.31527209281921387\n",
      "2018-08-02_14-30-06 0.4033780097961426\n",
      "2018-08-02_14-30-36 0.2592480182647705\n",
      "2018-08-02_14-31-13 0.296480655670166\n",
      "2018-08-02_14-31-43 0.5900180339813232\n",
      "2018-08-02_14-32-14 0.44431471824645996\n",
      "2018-08-02_14-33-28 1.5437510013580322\n",
      "2018-08-02_14-34-25 1.2639431953430176\n",
      "2018-08-02_14-35-22 0.9580121040344238\n",
      "2018-08-02_14-36-19 1.5423643589019775\n",
      "2018-08-02_14-37-15 1.2222888469696045\n",
      "2018-08-02_14-38-11 1.0792341232299805\n",
      "2018-08-02_14-39-08 1.1477699279785156\n",
      "2018-08-02_14-40-04 0.8725981712341309\n",
      "2018-08-02_14-41-00 1.007411003112793\n",
      "2018-08-02_14-41-57 1.3000390529632568\n",
      "2018-08-02_14-42-53 1.2461745738983154\n",
      "2018-08-02_14-43-50 1.8508992195129395\n",
      "2018-08-02_14-44-47 1.077420711517334\n",
      "2018-08-02_14-45-44 1.2600789070129395\n",
      "2018-08-02_14-46-41 1.4902265071868896\n",
      "2018-08-02_14-47-39 1.4799048900604248\n",
      "2018-08-02_14-48-36 0.9933924674987793\n",
      "2018-08-02_14-49-34 1.0324020385742188\n",
      "2018-08-02_14-50-31 1.3588449954986572\n",
      "2018-08-02_14-51-27 1.0660138130187988\n",
      "2018-08-02_14-52-24 0.7263989448547363\n",
      "Total eval time 34.65282464027405 seconds\n"
     ]
    }
   ],
   "source": [
    "# Get test losses with timestamps\n",
    "events = events_dict['times/eval_sec']\n",
    "total_eval_time = 0\n",
    "for key in events:\n",
    "  if key>end_time:\n",
    "    break\n",
    "  total_eval_time+=events[key]\n",
    "  print(datetime_from_seconds(key).strftime(\"%Y-%m-%d_%H-%M-%S\"), events[key])\n",
    "print(f\"Total eval time {total_eval_time} seconds\")"
   ]
  },
  {
   "cell_type": "code",
   "execution_count": 50,
   "metadata": {},
   "outputs": [],
   "source": [
    "adjusted_duration_sec = duration_sec - total_eval_time"
   ]
  },
  {
   "cell_type": "code",
   "execution_count": 51,
   "metadata": {},
   "outputs": [
    {
     "data": {
      "text/plain": [
       "'30.0 minutes, 28.717504262924194 seconds'"
      ]
     },
     "execution_count": 51,
     "metadata": {},
     "output_type": "execute_result"
    }
   ],
   "source": [
    "f\"{adjusted_duration_sec//60} minutes, {adjusted_duration_sec%60} seconds\""
   ]
  }
 ],
 "metadata": {
  "kernelspec": {
   "display_name": "Python [conda env:tensorflow_p36]",
   "language": "python",
   "name": "conda-env-tensorflow_p36-py"
  },
  "language_info": {
   "codemirror_mode": {
    "name": "ipython",
    "version": 3
   },
   "file_extension": ".py",
   "mimetype": "text/x-python",
   "name": "python",
   "nbconvert_exporter": "python",
   "pygments_lexer": "ipython3",
   "version": "3.6.6"
  },
  "toc": {
   "base_numbering": 1,
   "nav_menu": {},
   "number_sections": false,
   "sideBar": true,
   "skip_h1_title": false,
   "title_cell": "Table of Contents",
   "title_sidebar": "Contents",
   "toc_cell": false,
   "toc_position": {
    "height": "calc(100% - 180px)",
    "left": "10px",
    "top": "150px",
    "width": "214px"
   },
   "toc_section_display": true,
   "toc_window_display": true
  }
 },
 "nbformat": 4,
 "nbformat_minor": 2
}
