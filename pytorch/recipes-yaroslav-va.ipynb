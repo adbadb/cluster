{
 "cells": [
  {
   "cell_type": "markdown",
   "metadata": {},
   "source": [
    "# Init"
   ]
  },
  {
   "cell_type": "code",
   "execution_count": 54,
   "metadata": {},
   "outputs": [
    {
     "name": "stderr",
     "output_type": "stream",
     "text": [
      "/home/ubuntu/anaconda3/envs/tensorflow_p36/lib/python3.6/site-packages/matplotlib/font_manager.py:278: UserWarning: Matplotlib is building the font cache using fc-list. This may take a moment.\n",
      "  'Matplotlib is building the font cache using fc-list. '\n"
     ]
    }
   ],
   "source": [
    "%matplotlib inline\n",
    "import matplotlib.pyplot as plt\n",
    "\n",
    "import glob\n",
    "import numpy as np\n",
    "import datetime as dt\n",
    "import pytz\n",
    "from tensorflow.python.summary import summary_iterator\n",
    "def get_events(run, x_axis='step'):\n",
    "  \"\"\"Returns event dictionary for given run, has form\n",
    "  {tag1: {step1: val1}, tag2: ..}\n",
    "\n",
    "  If x_axis is set to \"time\", step is replaced by timestamp\n",
    "  \"\"\"\n",
    "  result = {}\n",
    "  for fname in glob.glob(f'/efs/runs/{run}/events*'):\n",
    "    print(\"Parsing \"+fname)\n",
    "    events = summary_iterator.summary_iterator(fname)\n",
    "\n",
    "    for event in events:\n",
    "      if x_axis == 'step':\n",
    "        x_val = event.step\n",
    "      elif x_axis == 'time':\n",
    "        x_val = event.wall_time\n",
    "      else:\n",
    "        assert False, f\"Unknown x_axis ({x_axis})\"\n",
    "        \n",
    "      vals = {val.tag: val.simple_value for val in event.summary.value}\n",
    "      # step_time: value\n",
    "      for tag in vals:\n",
    "        event_dict = result.setdefault(tag, {})\n",
    "        if x_val in event_dict:\n",
    "          print(f\"Warning, overwriting {tag} for {x_axis}={x_val}\")\n",
    "          print(f\"old val={event_dict[x_val]}\")\n",
    "          print(f\"new val={vals[tag]}\")\n",
    "\n",
    "        event_dict[x_val] = vals[tag]\n",
    "        \n",
    "  return result\n",
    "\n",
    "def datetime_from_seconds(seconds, timezone=\"US/Pacific\"):\n",
    "  \"\"\"\n",
    "  timezone: pytz timezone name to use for conversion, ie, UTC or US/Pacific\n",
    "  \"\"\"\n",
    "  return dt.datetime.fromtimestamp(seconds, pytz.timezone(timezone))\n",
    "\n",
    "def plot(d):\n",
    "    xs = [item[0] for item in d.items()]\n",
    "    ys = [item[1] for item in d.items()]\n",
    "    plt.plot(xs, ys)\n",
    "def plot2(d1,d2):\n",
    "    xs1 = [item[0] for item in d1.items()]\n",
    "    ys1 = [item[1] for item in d1.items()]\n",
    "    xs2 = [item[0] for item in d2.items()]\n",
    "    ys2 = [item[1] for item in d2.items()]\n",
    "    plt.plot(xs1, ys1, xs2, ys2)"
   ]
  },
  {
   "cell_type": "markdown",
   "metadata": {},
   "source": [
    "# Queries"
   ]
  },
  {
   "cell_type": "markdown",
   "metadata": {},
   "source": [
    "## Tracking down event line break"
   ]
  },
  {
   "cell_type": "code",
   "execution_count": 7,
   "metadata": {},
   "outputs": [
    {
     "name": "stdout",
     "output_type": "stream",
     "text": [
      "Parsing /efs/runs/deleteme/events.out.tfevents.1533146384.ip-192-168-45-167\n",
      "Parsing /efs/runs/wed-two-machines/events.out.tfevents.1533146908.ip-192-168-42-161\n"
     ]
    },
    {
     "data": {
      "text/plain": [
       "[<matplotlib.lines.Line2D at 0x7f3243892978>]"
      ]
     },
     "execution_count": 7,
     "metadata": {},
     "output_type": "execute_result"
    },
    {
     "data": {
      "image/png": "[encoded data removed]",
      "text/plain": [
       "<Figure size 432x288 with 1 Axes>"
      ]
     },
     "metadata": {},
     "output_type": "display_data"
    }
   ],
   "source": [
    "%matplotlib inline\n",
    "import matplotlib.pyplot as plt\n",
    "events_dict=get_events('deleteme')\n",
    "events1 = events_dict['lr']\n",
    "events_dict=get_events('wed-two-machines')\n",
    "events2 = events_dict['lr']\n",
    "plt.ylabel('loss')\n",
    "plt.xlabel('step')\n",
    "plt.title(\"training loss\")\n",
    "plt.plot(events1.values())\n",
    "plt.plot(events2.values())"
   ]
  },
  {
   "cell_type": "code",
   "execution_count": 8,
   "metadata": {},
   "outputs": [
    {
     "data": {
      "text/plain": [
       "{1536: 0.400070458650589,\n",
       " 1282560: 0.4588235318660736,\n",
       " 1284096: 0.4588939845561981,\n",
       " 2565120: 0.5176470875740051,\n",
       " 2566656: 0.5177174806594849,\n",
       " 3847680: 0.5764706134796143,\n",
       " 3849216: 0.576541006565094,\n",
       " 5130240: 0.6352941393852234,\n",
       " 5131776: 0.6353645920753479,\n",
       " 6412800: 0.6941176652908325,\n",
       " 6414336: 0.694188117980957,\n",
       " 7695360: 0.7529411911964417,\n",
       " 7696896: 0.4000000059604645,\n",
       " 26935296: 0.03999999910593033,\n",
       " 44891136: 0.004000000189989805,\n",
       " 55150080: 0.00039999998989515007}"
      ]
     },
     "execution_count": 8,
     "metadata": {},
     "output_type": "execute_result"
    }
   ],
   "source": [
    "events1"
   ]
  },
  {
   "cell_type": "code",
   "execution_count": 9,
   "metadata": {},
   "outputs": [
    {
     "data": {
      "text/plain": [
       "{3072: 0.8002551794052124,\n",
       " 1284096: 0.9066666960716248,\n",
       " 1287168: 0.9069218635559082,\n",
       " 2568192: 1.0133333206176758,\n",
       " 2571264: 1.013588547706604,\n",
       " 3852288: 1.1200000047683716,\n",
       " 3855360: 1.1202552318572998,\n",
       " 5136384: 1.2266666889190674,\n",
       " 5139456: 1.226921796798706,\n",
       " 6420480: 1.3333333730697632,\n",
       " 6423552: 1.3335884809494019,\n",
       " 7704576: 1.440000057220459,\n",
       " 7707648: 1.4402551651000977,\n",
       " 8988672: 1.5466666221618652,\n",
       " 8991744: 0.800000011920929,\n",
       " 30821376: 0.07999999821186066,\n",
       " 50082816: 0.00800000037997961,\n",
       " 61634560: 0.0007999999797903001}"
      ]
     },
     "execution_count": 9,
     "metadata": {},
     "output_type": "execute_result"
    }
   ],
   "source": [
    "events2"
   ]
  },
  {
   "cell_type": "code",
   "execution_count": null,
   "metadata": {},
   "outputs": [],
   "source": [
    "peak #1 at 7695360\n",
    "peak #2 at 8988672\n",
    "batch_size1 = 1536\n",
    "batch_size2 = 3072\n",
    "log every: 30720 examples "
   ]
  },
  {
   "cell_type": "markdown",
   "metadata": {},
   "source": [
    "## Figure out frequency of spikes"
   ]
  },
  {
   "cell_type": "code",
   "execution_count": null,
   "metadata": {},
   "outputs": [],
   "source": [
    "peak #1 at 7695360\n",
    "peak #2 at 8988672\n",
    "batch_size1 = 1536\n",
    "batch_size2 = 3072\n",
    "log every: 30720 examples "
   ]
  },
  {
   "cell_type": "code",
   "execution_count": 22,
   "metadata": {},
   "outputs": [
    {
     "name": "stdout",
     "output_type": "stream",
     "text": [
      "Parsing /efs/runs/pillow-one/events.out.tfevents.1533160638.ip-192-168-39-101\n",
      "Parsing /efs/runs/pillow-two/events.out.tfevents.1533160937.ip-192-168-45-119\n"
     ]
    },
    {
     "data": {
      "image/png": "[encoded data removed]",
      "text/plain": [
       "<Figure size 432x288 with 1 Axes>"
      ]
     },
     "metadata": {},
     "output_type": "display_data"
    }
   ],
   "source": [
    "%matplotlib inline\n",
    "import matplotlib.pyplot as plt\n",
    "events_dict=get_events('pillow-one')\n",
    "events1 = events_dict['losses/xent']\n",
    "events_dict=get_events('pillow-two')\n",
    "events2 = events_dict['losses/xent']\n",
    "plt.ylabel('loss')\n",
    "plt.xlabel('step')\n",
    "plt.title(\"training loss\")\n",
    "plot2(events1, events2)"
   ]
  },
  {
   "cell_type": "code",
   "execution_count": 23,
   "metadata": {},
   "outputs": [
    {
     "data": {
      "image/png": "[encoded data removed]",
      "text/plain": [
       "<Figure size 432x288 with 1 Axes>"
      ]
     },
     "metadata": {},
     "output_type": "display_data"
    }
   ],
   "source": [
    "plot(events2)"
   ]
  },
  {
   "cell_type": "code",
   "execution_count": 27,
   "metadata": {},
   "outputs": [
    {
     "data": {
      "text/plain": [
       "[<matplotlib.lines.Line2D at 0x7f323fe4b390>]"
      ]
     },
     "execution_count": 27,
     "metadata": {},
     "output_type": "execute_result"
    },
    {
     "data": {
      "image/png": "[encoded data removed]",
      "text/plain": [
       "<Figure size 432x288 with 1 Axes>"
      ]
     },
     "metadata": {},
     "output_type": "display_data"
    }
   ],
   "source": [
    "plt.plot(list(events2.values())[1000:])"
   ]
  },
  {
   "cell_type": "code",
   "execution_count": 30,
   "metadata": {},
   "outputs": [],
   "source": [
    "def pos_top(a, k):\n",
    "  \"\"\"Positions of top k entries in a\"\"\"\n",
    "  return sorted(range(len(a)), key=lambda i: a[i])[-k:]"
   ]
  },
  {
   "cell_type": "code",
   "execution_count": 37,
   "metadata": {},
   "outputs": [],
   "source": [
    "# positions of peaks\n",
    "peak_pos = sorted(pos_top(list(events2.values())[1000:], 9))\n",
    "# step values of peaks\n",
    "step_vals = np.array(list(events2.keys())[1000:])[peak_pos]\n",
    "# deltas\n",
    "np.ediff1d(step_vals)"
   ]
  },
  {
   "cell_type": "markdown",
   "metadata": {},
   "source": [
    "## Average step time for first 100 steps"
   ]
  },
  {
   "cell_type": "code",
   "execution_count": 68,
   "metadata": {},
   "outputs": [
    {
     "name": "stdout",
     "output_type": "stream",
     "text": [
      "Parsing /efs/runs/thu-eight/events.out.tfevents.1533244938.ip-192-168-46-102\n"
     ]
    },
    {
     "data": {
      "text/plain": [
       "[<matplotlib.lines.Line2D at 0x7f8b8ff22630>]"
      ]
     },
     "execution_count": 68,
     "metadata": {},
     "output_type": "execute_result"
    },
    {
     "data": {
      "image/png": "[encoded data removed]",
      "text/plain": [
       "<Figure size 432x288 with 1 Axes>"
      ]
     },
     "metadata": {},
     "output_type": "display_data"
    }
   ],
   "source": [
    "# Get test losses with timestamps\n",
    "events_dict=get_events('thu-eight')\n",
    "events = events_dict['times/step']\n",
    "times = list(events.values())\n",
    "plt.plot(times)"
   ]
  },
  {
   "cell_type": "code",
   "execution_count": 69,
   "metadata": {},
   "outputs": [
    {
     "data": {
      "text/plain": [
       "(137.7456043815613, 126.001953125)"
      ]
     },
     "execution_count": 69,
     "metadata": {},
     "output_type": "execute_result"
    }
   ],
   "source": [
    "np.mean(times[:400]), np.median(times[:400])"
   ]
  },
  {
   "cell_type": "markdown",
   "metadata": {},
   "source": [
    "### Compare to single-machine run"
   ]
  },
  {
   "cell_type": "code",
   "execution_count": 64,
   "metadata": {},
   "outputs": [
    {
     "name": "stdout",
     "output_type": "stream",
     "text": [
      "Parsing /efs/runs/one-machines128/events.out.tfevents.1533058213.ip-192-168-35-24\n"
     ]
    },
    {
     "data": {
      "text/plain": [
       "[<matplotlib.lines.Line2D at 0x7f8b8fd0e550>]"
      ]
     },
     "execution_count": 64,
     "metadata": {},
     "output_type": "execute_result"
    },
    {
     "data": {
      "image/png": "[encoded data removed]",
      "text/plain": [
       "<Figure size 432x288 with 1 Axes>"
      ]
     },
     "metadata": {},
     "output_type": "display_data"
    }
   ],
   "source": [
    "# Get test losses with timestamps\n",
    "events_dict=get_events('one-machines128')\n",
    "events = events_dict['time/step_ms']\n",
    "times = list(events.values())\n",
    "plt.plot(times)"
   ]
  },
  {
   "cell_type": "code",
   "execution_count": 66,
   "metadata": {},
   "outputs": [
    {
     "data": {
      "text/plain": [
       "(84.48016103744507, 82.57186508178711)"
      ]
     },
     "execution_count": 66,
     "metadata": {},
     "output_type": "execute_result"
    }
   ],
   "source": [
    "np.mean(times[:400]), np.median(times[:400])"
   ]
  },
  {
   "cell_type": "markdown",
   "metadata": {},
   "source": [
    "## Step latency spikes"
   ]
  },
  {
   "cell_type": "code",
   "execution_count": 82,
   "metadata": {
    "scrolled": false
   },
   "outputs": [
    {
     "name": "stdout",
     "output_type": "stream",
     "text": [
      "Parsing /efs/runs/thu-eight/events.out.tfevents.1533244938.ip-192-168-46-102\n"
     ]
    },
    {
     "data": {
      "text/plain": [
       "[<matplotlib.lines.Line2D at 0x7f8b940327b8>]"
      ]
     },
     "execution_count": 82,
     "metadata": {},
     "output_type": "execute_result"
    },
    {
     "data": {
      "image/png": "[encoded data removed]",
      "text/plain": [
       "<Figure size 432x288 with 1 Axes>"
      ]
     },
     "metadata": {},
     "output_type": "display_data"
    }
   ],
   "source": [
    "\n",
    "def pos_top(a, k):\n",
    "  \"\"\"Positions of top k entries in a\"\"\"\n",
    "  return sorted(range(len(a)), key=lambda i: a[i])[-k:]\n",
    "\n",
    "# Get test losses with timestamps\n",
    "events_dict=get_events('thu-eight', 'step')\n",
    "events = events_dict['times/step']\n",
    "for key in events:\n",
    "    pass\n",
    "    #print(key, events[key])\n",
    "    \n",
    "times = list(events.values())[40:400]\n",
    "plt.plot(times)"
   ]
  },
  {
   "cell_type": "code",
   "execution_count": 83,
   "metadata": {},
   "outputs": [
    {
     "data": {
      "text/plain": [
       "array([ 139264, 1146880,  139264, 1146880,  139264, 1146880,  139264,\n",
       "       1146880,  139264, 1146880,  139264, 1146880,  139264, 1146880,\n",
       "        139264, 1146880,  139264, 1146880,  139264, 1146880,  139264])"
      ]
     },
     "execution_count": 83,
     "metadata": {},
     "output_type": "execute_result"
    }
   ],
   "source": [
    "# positions of peaks\n",
    "peak_pos = sorted(pos_top(times, 22))\n",
    "# step values of peaks\n",
    "step_vals = np.array(list(events.keys())[40:400])[peak_pos]\n",
    "# deltas\n",
    "np.ediff1d(step_vals)"
   ]
  },
  {
   "cell_type": "code",
   "execution_count": 87,
   "metadata": {},
   "outputs": [
    {
     "data": {
      "text/plain": [
       "[122.10154724121094,\n",
       " 126.9683837890625,\n",
       " 128.13092041015625,\n",
       " 140.7592315673828,\n",
       " 130.4898223876953,\n",
       " 125.5705337524414,\n",
       " 130.38229370117188,\n",
       " 133.6383819580078,\n",
       " 130.45811462402344,\n",
       " 127.8574447631836,\n",
       " 126.35922241210938,\n",
       " 122.5798110961914,\n",
       " 123.37255859375,\n",
       " 123.86035919189453,\n",
       " 125.10466766357422,\n",
       " 130.39707946777344,\n",
       " 125.55265808105469,\n",
       " 124.02105712890625,\n",
       " 125.22554016113281,\n",
       " 169.6319580078125,\n",
       " 131.02793884277344,\n",
       " 133.33392333984375,\n",
       " 129.91238403320312,\n",
       " 221.61459350585938,\n",
       " 127.84457397460938,\n",
       " 124.745849609375,\n",
       " 126.3680419921875,\n",
       " 127.26020812988281,\n",
       " 124.87673950195312,\n",
       " 130.65219116210938,\n",
       " 133.36062622070312,\n",
       " 126.99174499511719,\n",
       " 128.40676879882812,\n",
       " 127.70223999023438,\n",
       " 123.47698211669922,\n",
       " 124.12380981445312,\n",
       " 124.96041870117188,\n",
       " 124.50265502929688,\n",
       " 128.46971130371094,\n",
       " 125.6561279296875,\n",
       " 124.99284362792969,\n",
       " 126.1098403930664,\n",
       " 135.2047882080078,\n",
       " 132.07339477539062,\n",
       " 130.12123107910156,\n",
       " 127.25639343261719,\n",
       " 128.39865112304688,\n",
       " 129.14991760253906,\n",
       " 130.16319274902344,\n",
       " 127.56967163085938,\n",
       " 126.0130386352539,\n",
       " 168.4007568359375,\n",
       " 139.44601440429688,\n",
       " 136.29197692871094,\n",
       " 128.9603729248047,\n",
       " 198.28128051757812,\n",
       " 126.76858520507812,\n",
       " 130.4912567138672,\n",
       " 124.30525207519531,\n",
       " 126.29151153564453,\n",
       " 129.26316833496094,\n",
       " 126.57594299316406,\n",
       " 124.20368194580078,\n",
       " 124.00603485107422,\n",
       " 122.03860473632812,\n",
       " 129.94456481933594,\n",
       " 132.80392456054688,\n",
       " 124.38988494873047,\n",
       " 127.20608520507812,\n",
       " 125.9908676147461,\n",
       " 130.86343383789062,\n",
       " 127.67720031738281,\n",
       " 126.07240295410156,\n",
       " 125.80918884277344,\n",
       " 132.8971405029297,\n",
       " 134.11807250976562,\n",
       " 123.55732727050781,\n",
       " 127.95901489257812,\n",
       " 128.4353790283203,\n",
       " 129.15277099609375,\n",
       " 127.71224975585938,\n",
       " 125.833984375,\n",
       " 121.62518310546875,\n",
       " 164.6237335205078,\n",
       " 131.6785888671875,\n",
       " 128.01670837402344,\n",
       " 131.7191162109375,\n",
       " 197.1893310546875,\n",
       " 128.83282470703125,\n",
       " 123.84367370605469,\n",
       " 129.96148681640625,\n",
       " 122.24102020263672,\n",
       " 123.48365783691406,\n",
       " 133.1129150390625,\n",
       " 125.5552749633789,\n",
       " 125.101806640625,\n",
       " 131.11830139160156,\n",
       " 125.01692962646484,\n",
       " 128.0996856689453,\n",
       " 123.92902374267578,\n",
       " 124.74298095703125,\n",
       " 124.46212768554688,\n",
       " 136.23309326171875,\n",
       " 125.67901611328125,\n",
       " 128.41128540039062,\n",
       " 127.41255950927734,\n",
       " 128.63516235351562,\n",
       " 125.97512817382812,\n",
       " 122.82633972167969,\n",
       " 127.21920013427734,\n",
       " 125.52976989746094,\n",
       " 125.65326690673828,\n",
       " 123.08168029785156,\n",
       " 125.90074157714844,\n",
       " 128.9603729248047,\n",
       " 171.0171661376953,\n",
       " 130.9933624267578,\n",
       " 127.48551177978516,\n",
       " 126.36947631835938,\n",
       " 212.85557556152344,\n",
       " 128.09609985351562,\n",
       " 124.49288177490234,\n",
       " 127.79068756103516,\n",
       " 127.56300354003906,\n",
       " 122.4010009765625,\n",
       " 129.8084259033203,\n",
       " 127.85053253173828,\n",
       " 126.79362487792969,\n",
       " 122.7164306640625,\n",
       " 121.44136047363281,\n",
       " 120.91278839111328,\n",
       " 126.27983093261719,\n",
       " 124.5880126953125,\n",
       " 131.78778076171875,\n",
       " 125.42987060546875,\n",
       " 122.59220886230469,\n",
       " 132.1973876953125,\n",
       " 127.63929748535156,\n",
       " 124.35555267333984,\n",
       " 123.58379364013672,\n",
       " 124.17435455322266,\n",
       " 121.92749786376953,\n",
       " 129.41384887695312,\n",
       " 122.99633026123047,\n",
       " 130.0809326171875,\n",
       " 130.64718627929688,\n",
       " 124.88055419921875,\n",
       " 171.6172637939453,\n",
       " 132.9393310546875,\n",
       " 132.51400756835938,\n",
       " 131.33978271484375,\n",
       " 202.17108154296875,\n",
       " 121.7305679321289,\n",
       " 127.69270324707031,\n",
       " 123.34918975830078,\n",
       " 126.96600341796875,\n",
       " 122.60985565185547,\n",
       " 130.9998016357422,\n",
       " 128.52597045898438,\n",
       " 123.89826965332031,\n",
       " 123.60835266113281,\n",
       " 123.45933532714844,\n",
       " 123.84461975097656,\n",
       " 125.25630187988281,\n",
       " 124.00650787353516,\n",
       " 124.34673309326172,\n",
       " 127.05921936035156,\n",
       " 125.35953521728516,\n",
       " 125.64515686035156,\n",
       " 124.04107666015625,\n",
       " 123.81315612792969,\n",
       " 122.68710327148438,\n",
       " 125.74433898925781,\n",
       " 124.71199035644531,\n",
       " 126.35111999511719,\n",
       " 122.70164489746094,\n",
       " 124.84288024902344,\n",
       " 123.28767395019531,\n",
       " 126.04117584228516,\n",
       " 168.97201538085938,\n",
       " 126.20830535888672,\n",
       " 128.7484130859375,\n",
       " 127.48455810546875,\n",
       " 203.31764221191406,\n",
       " 124.22347259521484,\n",
       " 131.77609252929688,\n",
       " 128.1533203125,\n",
       " 128.98397827148438,\n",
       " 139.200927734375,\n",
       " 124.66358947753906,\n",
       " 129.70614624023438,\n",
       " 125.19192504882812,\n",
       " 128.58175659179688,\n",
       " 124.32694244384766,\n",
       " 121.78349304199219,\n",
       " 125.1618881225586,\n",
       " 133.50177001953125,\n",
       " 122.56121826171875,\n",
       " 121.76179504394531,\n",
       " 123.80171203613281,\n",
       " 123.57759094238281,\n",
       " 128.07273864746094,\n",
       " 124.64022827148438,\n",
       " 121.82140350341797,\n",
       " 127.85076904296875,\n",
       " 128.54957580566406,\n",
       " 122.79415130615234,\n",
       " 122.96199798583984,\n",
       " 126.02114868164062,\n",
       " 130.26356506347656,\n",
       " 122.70974731445312,\n",
       " 167.50550842285156,\n",
       " 127.49147033691406,\n",
       " 125.18357849121094,\n",
       " 123.88587188720703,\n",
       " 214.31565856933594,\n",
       " 126.23262023925781,\n",
       " 126.6427001953125,\n",
       " 123.341796875,\n",
       " 121.77825164794922,\n",
       " 125.29373168945312,\n",
       " 123.15535736083984,\n",
       " 122.34759521484375,\n",
       " 123.5706787109375,\n",
       " 124.5820541381836,\n",
       " 121.51360321044922,\n",
       " 122.56622314453125,\n",
       " 122.07794189453125,\n",
       " 122.47920227050781,\n",
       " 130.5897216796875,\n",
       " 129.48870849609375,\n",
       " 135.06198120117188,\n",
       " 126.52111053466797,\n",
       " 125.56504821777344,\n",
       " 124.68672180175781,\n",
       " 122.43890380859375,\n",
       " 122.38907623291016,\n",
       " 124.70650482177734,\n",
       " 131.0100555419922,\n",
       " 126.58929443359375,\n",
       " 132.99847412109375,\n",
       " 123.0528335571289,\n",
       " 121.67382049560547,\n",
       " 180.78875732421875,\n",
       " 136.76358032226562,\n",
       " 128.7910919189453,\n",
       " 128.34072875976562,\n",
       " 231.5015869140625,\n",
       " 128.31591796875,\n",
       " 122.37167358398438,\n",
       " 121.63043212890625,\n",
       " 124.73678588867188,\n",
       " 121.08493041992188,\n",
       " 122.82276153564453,\n",
       " 125.55647277832031,\n",
       " 122.6511001586914,\n",
       " 128.5111846923828,\n",
       " 123.3470458984375,\n",
       " 122.48778533935547,\n",
       " 122.97201538085938,\n",
       " 123.36563873291016,\n",
       " 121.70386505126953,\n",
       " 128.57461547851562,\n",
       " 121.9429931640625,\n",
       " 126.75547790527344,\n",
       " 123.04306030273438,\n",
       " 122.56526947021484,\n",
       " 124.22466278076172,\n",
       " 122.46918487548828,\n",
       " 133.26573181152344,\n",
       " 126.7995834350586,\n",
       " 122.24030303955078,\n",
       " 127.12168884277344,\n",
       " 123.21543884277344,\n",
       " 137.83883666992188,\n",
       " 170.63809204101562,\n",
       " 124.91202545166016,\n",
       " 130.80596923828125,\n",
       " 128.8583221435547,\n",
       " 188.51065063476562,\n",
       " 120.68724822998047,\n",
       " 121.04630279541016,\n",
       " 128.05844116210938,\n",
       " 133.6536407470703,\n",
       " 126.78909301757812,\n",
       " 123.12554931640625,\n",
       " 121.69075012207031,\n",
       " 121.0134048461914,\n",
       " 124.13978576660156,\n",
       " 121.37580108642578,\n",
       " 122.5423812866211,\n",
       " 132.0447998046875,\n",
       " 120.28789520263672,\n",
       " 125.73218536376953,\n",
       " 127.6693344116211,\n",
       " 120.6817626953125,\n",
       " 125.15950012207031,\n",
       " 131.3829345703125,\n",
       " 132.33399963378906,\n",
       " 125.29182434082031,\n",
       " 125.01311492919922,\n",
       " 120.85032653808594,\n",
       " 122.50947570800781,\n",
       " 121.4652099609375,\n",
       " 145.88880920410156,\n",
       " 121.87862396240234,\n",
       " 122.88570404052734,\n",
       " 164.3779296875,\n",
       " 135.03359985351562,\n",
       " 138.81492614746094,\n",
       " 132.29441833496094,\n",
       " 209.82933044433594,\n",
       " 121.07276916503906,\n",
       " 127.73085021972656,\n",
       " 124.01533508300781,\n",
       " 122.92122650146484,\n",
       " 121.78349304199219,\n",
       " 122.08724212646484,\n",
       " 121.74248504638672,\n",
       " 123.09765625,\n",
       " 124.65167236328125,\n",
       " 128.83758544921875,\n",
       " 123.14152526855469,\n",
       " 121.43158721923828,\n",
       " 123.14391326904297,\n",
       " 125.08296966552734,\n",
       " 123.48031616210938,\n",
       " 122.72811126708984,\n",
       " 121.87004089355469,\n",
       " 122.99942779541016,\n",
       " 126.40404510498047,\n",
       " 121.67191314697266,\n",
       " 126.74164581298828,\n",
       " 121.77705383300781,\n",
       " 124.25566101074219,\n",
       " 122.94197082519531,\n",
       " 127.04014587402344,\n",
       " 123.02088928222656,\n",
       " 132.88235473632812,\n",
       " 175.414794921875,\n",
       " 125.73695373535156,\n",
       " 126.41429901123047,\n",
       " 129.60458374023438,\n",
       " 182.66343688964844,\n",
       " 126.77120971679688,\n",
       " 123.29578399658203,\n",
       " 123.16084289550781,\n",
       " 131.2439422607422,\n",
       " 121.06108856201172,\n",
       " 123.12030792236328,\n",
       " 123.97980499267578,\n",
       " 122.10392761230469,\n",
       " 121.92440032958984,\n",
       " 124.24683380126953,\n",
       " 125.09036254882812,\n",
       " 121.6390151977539,\n",
       " 132.34423828125,\n",
       " 123.51799011230469,\n",
       " 123.19779205322266,\n",
       " 124.60183715820312]"
      ]
     },
     "execution_count": 87,
     "metadata": {},
     "output_type": "execute_result"
    }
   ],
   "source": [
    "times"
   ]
  },
  {
   "cell_type": "markdown",
   "metadata": {},
   "source": [
    "# Runs"
   ]
  },
  {
   "cell_type": "markdown",
   "metadata": {},
   "source": [
    "## Thu 8-machine run"
   ]
  },
  {
   "cell_type": "code",
   "execution_count": 39,
   "metadata": {},
   "outputs": [
    {
     "name": "stdout",
     "output_type": "stream",
     "text": [
      "Parsing /efs/runs/thu-eight/events.out.tfevents.1533244938.ip-192-168-46-102\n",
      "2018-08-02_14-24-21 13.640000343322754\n",
      "2018-08-02_14-24-55 22.889999389648438\n",
      "2018-08-02_14-25-27 37.18199920654297\n",
      "2018-08-02_14-25-58 47.24599838256836\n",
      "2018-08-02_14-26-29 40.4640007019043\n",
      "2018-08-02_14-27-01 47.784000396728516\n",
      "2018-08-02_14-27-32 59.805999755859375\n",
      "2018-08-02_14-28-03 68.0820083618164\n",
      "2018-08-02_14-28-34 66.62999725341797\n",
      "2018-08-02_14-29-05 65.56000518798828\n",
      "2018-08-02_14-29-35 68.77600860595703\n",
      "2018-08-02_14-30-06 67.19600677490234\n",
      "2018-08-02_14-30-36 69.59200286865234\n",
      "2018-08-02_14-31-13 64.73600769042969\n",
      "2018-08-02_14-31-43 69.56600189208984\n",
      "2018-08-02_14-32-14 70.63999938964844\n",
      "2018-08-02_14-33-28 73.73200225830078\n",
      "2018-08-02_14-34-25 77.93399810791016\n",
      "2018-08-02_14-35-22 75.27200317382812\n",
      "2018-08-02_14-36-19 88.86599731445312\n",
      "2018-08-02_14-37-15 89.11599731445312\n",
      "2018-08-02_14-38-11 89.4219970703125\n",
      "2018-08-02_14-39-08 89.73600006103516\n",
      "2018-08-02_14-40-04 89.8239974975586\n",
      "2018-08-02_14-41-00 90.06199645996094\n",
      "2018-08-02_14-41-57 90.19000244140625\n",
      "2018-08-02_14-42-53 89.91200256347656\n",
      "2018-08-02_14-43-50 90.21199798583984\n",
      "2018-08-02_14-44-47 89.89399719238281\n",
      "2018-08-02_14-45-44 89.89600372314453\n",
      "2018-08-02_14-46-41 89.552001953125\n",
      "2018-08-02_14-47-39 91.36599731445312\n",
      "2018-08-02_14-48-36 91.44200134277344\n",
      "2018-08-02_14-49-34 91.5979995727539\n",
      "2018-08-02_14-50-31 91.51799774169922\n",
      "2018-08-02_14-51-27 91.55000305175781\n",
      "2018-08-02_14-52-24 91.552001953125\n",
      "2018-08-02_14-54-36 93.06400299072266\n"
     ]
    }
   ],
   "source": [
    "# Get test losses with timestamps\n",
    "events_dict=get_events('thu-eight', 'time')\n",
    "events = events_dict['losses/test_5']\n",
    "for key in events:\n",
    "  print(datetime_from_seconds(key).strftime(\"%Y-%m-%d_%H-%M-%S\"), events[key])\n",
    "  if events[key]>=93:\n",
    "    end_time = key\n",
    "    break"
   ]
  },
  {
   "cell_type": "code",
   "execution_count": 41,
   "metadata": {},
   "outputs": [
    {
     "name": "stdout",
     "output_type": "stream",
     "text": [
      "2018-08-02_14-23-32 128.0\n"
     ]
    }
   ],
   "source": [
    "# Get time of first event (this is logged for first image)\n",
    "events = events_dict['sizes/image']\n",
    "for key in events:\n",
    "  print(datetime_from_seconds(key).strftime(\"%Y-%m-%d_%H-%M-%S\"), events[key])\n",
    "  start_time = key\n",
    "  break"
   ]
  },
  {
   "cell_type": "code",
   "execution_count": 45,
   "metadata": {},
   "outputs": [],
   "source": [
    "duration_sec = end_time-start_time"
   ]
  },
  {
   "cell_type": "code",
   "execution_count": 46,
   "metadata": {},
   "outputs": [
    {
     "data": {
      "text/plain": [
       "'31.0 minutes, 3.370328903198242 seconds'"
      ]
     },
     "execution_count": 46,
     "metadata": {},
     "output_type": "execute_result"
    }
   ],
   "source": [
    "f\"{duration_sec//60} minutes, {duration_sec%60} seconds\""
   ]
  },
  {
   "cell_type": "markdown",
   "metadata": {},
   "source": [
    "### Subtract evaluation time"
   ]
  },
  {
   "cell_type": "code",
   "execution_count": 49,
   "metadata": {},
   "outputs": [
    {
     "name": "stdout",
     "output_type": "stream",
     "text": [
      "2018-08-02_14-24-21 1.0485830307006836\n",
      "2018-08-02_14-24-55 0.8416521549224854\n",
      "2018-08-02_14-25-27 0.6570076942443848\n",
      "2018-08-02_14-25-58 0.6457502841949463\n",
      "2018-08-02_14-26-29 0.5125820636749268\n",
      "2018-08-02_14-27-01 0.6995992660522461\n",
      "2018-08-02_14-27-32 0.5794594287872314\n",
      "2018-08-02_14-28-03 0.32988905906677246\n",
      "2018-08-02_14-28-34 0.4296715259552002\n",
      "2018-08-02_14-29-05 1.080749750137329\n",
      "2018-08-02_14-29-35 0.31527209281921387\n",
      "2018-08-02_14-30-06 0.4033780097961426\n",
      "2018-08-02_14-30-36 0.2592480182647705\n",
      "2018-08-02_14-31-13 0.296480655670166\n",
      "2018-08-02_14-31-43 0.5900180339813232\n",
      "2018-08-02_14-32-14 0.44431471824645996\n",
      "2018-08-02_14-33-28 1.5437510013580322\n",
      "2018-08-02_14-34-25 1.2639431953430176\n",
      "2018-08-02_14-35-22 0.9580121040344238\n",
      "2018-08-02_14-36-19 1.5423643589019775\n",
      "2018-08-02_14-37-15 1.2222888469696045\n",
      "2018-08-02_14-38-11 1.0792341232299805\n",
      "2018-08-02_14-39-08 1.1477699279785156\n",
      "2018-08-02_14-40-04 0.8725981712341309\n",
      "2018-08-02_14-41-00 1.007411003112793\n",
      "2018-08-02_14-41-57 1.3000390529632568\n",
      "2018-08-02_14-42-53 1.2461745738983154\n",
      "2018-08-02_14-43-50 1.8508992195129395\n",
      "2018-08-02_14-44-47 1.077420711517334\n",
      "2018-08-02_14-45-44 1.2600789070129395\n",
      "2018-08-02_14-46-41 1.4902265071868896\n",
      "2018-08-02_14-47-39 1.4799048900604248\n",
      "2018-08-02_14-48-36 0.9933924674987793\n",
      "2018-08-02_14-49-34 1.0324020385742188\n",
      "2018-08-02_14-50-31 1.3588449954986572\n",
      "2018-08-02_14-51-27 1.0660138130187988\n",
      "2018-08-02_14-52-24 0.7263989448547363\n",
      "Total eval time 34.65282464027405 seconds\n"
     ]
    }
   ],
   "source": [
    "# Get test losses with timestamps\n",
    "events = events_dict['times/eval_sec']\n",
    "total_eval_time = 0\n",
    "for key in events:\n",
    "  if key>end_time:\n",
    "    break\n",
    "  total_eval_time+=events[key]\n",
    "  print(datetime_from_seconds(key).strftime(\"%Y-%m-%d_%H-%M-%S\"), events[key])\n",
    "print(f\"Total eval time {total_eval_time} seconds\")"
   ]
  },
  {
   "cell_type": "code",
   "execution_count": 50,
   "metadata": {},
   "outputs": [],
   "source": [
    "adjusted_duration_sec = duration_sec - total_eval_time"
   ]
  },
  {
   "cell_type": "code",
   "execution_count": 51,
   "metadata": {},
   "outputs": [
    {
     "data": {
      "text/plain": [
       "'30.0 minutes, 28.717504262924194 seconds'"
      ]
     },
     "execution_count": 51,
     "metadata": {},
     "output_type": "execute_result"
    }
   ],
   "source": [
    "f\"{adjusted_duration_sec//60} minutes, {adjusted_duration_sec%60} seconds\""
   ]
  }
 ],
 "metadata": {
  "kernelspec": {
   "display_name": "Python [conda env:tensorflow_p36]",
   "language": "python",
   "name": "conda-env-tensorflow_p36-py"
  },
  "language_info": {
   "codemirror_mode": {
    "name": "ipython",
    "version": 3
   },
   "file_extension": ".py",
   "mimetype": "text/x-python",
   "name": "python",
   "nbconvert_exporter": "python",
   "pygments_lexer": "ipython3",
   "version": "3.6.6"
  },
  "toc": {
   "base_numbering": 1,
   "nav_menu": {},
   "number_sections": false,
   "sideBar": true,
   "skip_h1_title": false,
   "title_cell": "Table of Contents",
   "title_sidebar": "Contents",
   "toc_cell": false,
   "toc_position": {
    "height": "calc(100% - 180px)",
    "left": "10px",
    "top": "150px",
    "width": "214px"
   },
   "toc_section_display": true,
   "toc_window_display": true
  }
 },
 "nbformat": 4,
 "nbformat_minor": 2
}
