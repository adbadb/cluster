{
 "cells": [
  {
   "cell_type": "code",
   "execution_count": 47,
   "metadata": {},
   "outputs": [],
   "source": [
    "import glob\n",
    "from tensorflow.python.summary import summary_iterator\n",
    "def get_events(run, x_axis='step'):\n",
    "  \"\"\"Returns event dictionary for given run, has form\n",
    "  {tag1: {step1: val1}, tag2: ..}\n",
    "\n",
    "  If x_axis is set to \"time\", step is replaced by timestamp\n",
    "  \"\"\"\n",
    "  result = {}\n",
    "  for fname in glob.glob(f'/efs/runs/{run}/events*'):\n",
    "    print(\"Parsing \"+fname)\n",
    "    events = summary_iterator.summary_iterator(fname)\n",
    "\n",
    "    for event in events:\n",
    "      if x_axis == 'step':\n",
    "        x_val = event.step\n",
    "      elif x_axis == 'time':\n",
    "        x_val = event.wall_time\n",
    "      else:\n",
    "        assert False, f\"Unknown x_axis ({x_axis})\"\n",
    "        \n",
    "      vals = {val.tag: val.simple_value for val in event.summary.value}\n",
    "      # step_time: value\n",
    "      for tag in vals:\n",
    "        event_dict = result.setdefault(tag, {})\n",
    "        if x_val in event_dict:\n",
    "          print(f\"Warning, overwriting {tag} for {x_axis}={x_val}\")\n",
    "          print(f\"old val={event_dict[x_val]}\")\n",
    "          print(f\"new val={vals[tag]}\")\n",
    "\n",
    "        event_dict[x_val] = vals[tag]\n",
    "        \n",
    "  return result\n",
    "\n",
    "def datetime_from_seconds(seconds, timezone=\"US/Pacific\"):\n",
    "  \"\"\"\n",
    "  timezone: pytz timezone name to use for conversion, ie, UTC or US/Pacific\n",
    "  \"\"\"\n",
    "  return dt.datetime.fromtimestamp(seconds, pytz.timezone(timezone))"
   ]
  },
  {
   "cell_type": "code",
   "execution_count": 72,
   "metadata": {},
   "outputs": [
    {
     "name": "stdout",
     "output_type": "stream",
     "text": [
      "deleteme  deleteme.2018-07-29_14-40-01\tdeleteme.2018-07-29_15-00-07\r\n"
     ]
    }
   ],
   "source": [
    "!ls /efs/runs"
   ]
  },
  {
   "cell_type": "code",
   "execution_count": 80,
   "metadata": {},
   "outputs": [
    {
     "name": "stdout",
     "output_type": "stream",
     "text": [
      "Parsing /efs/runs/deleteme/events.out.tfevents.1532887564.ip-192-168-46-182\n",
      "2018-07-29_11-06-15 128.0\n",
      "2018-07-29_11-06-29 224.0\n",
      "2018-07-29_11-06-44 288.0\n"
     ]
    }
   ],
   "source": [
    "#events_dict=get_events('deleteme.2018-07-29_15-00-07', 'time')\n",
    "events_dict=get_events('deleteme', 'time')\n",
    "events = events_dict['image_size']\n",
    "for key in events:\n",
    "  print(datetime_from_seconds(key).strftime(\"%Y-%m-%d_%H-%M-%S\"), events[key])"
   ]
  },
  {
   "cell_type": "code",
   "execution_count": 77,
   "metadata": {},
   "outputs": [],
   "source": [
    "events_dict=get_events('deleteme.2018-07-29_15-00-25', 'step')"
   ]
  },
  {
   "cell_type": "markdown",
   "metadata": {},
   "source": [
    "## Get combined cost of evals"
   ]
  },
  {
   "cell_type": "code",
   "execution_count": 81,
   "metadata": {},
   "outputs": [
    {
     "name": "stdout",
     "output_type": "stream",
     "text": [
      "Parsing /efs/runs/deleteme/events.out.tfevents.1532887564.ip-192-168-46-182\n",
      "Warning, overwriting image_size for step=0\n",
      "old val=128.0\n",
      "new val=224.0\n",
      "Warning, overwriting batch_size for step=0\n",
      "old val=192.0\n",
      "new val=192.0\n",
      "Warning, overwriting image_size for step=0\n",
      "old val=224.0\n",
      "new val=288.0\n",
      "Warning, overwriting batch_size for step=0\n",
      "old val=192.0\n",
      "new val=128.0\n"
     ]
    }
   ],
   "source": [
    "run = 'deleteme'\n",
    "events_dict=get_events(run)"
   ]
  },
  {
   "cell_type": "code",
   "execution_count": 84,
   "metadata": {},
   "outputs": [
    {
     "data": {
      "text/plain": [
       "186.54029941558838"
      ]
     },
     "execution_count": 84,
     "metadata": {},
     "output_type": "execute_result"
    }
   ],
   "source": [
    "sum(events_dict['time/eval_sec'].values())"
   ]
  },
  {
   "cell_type": "code",
   "execution_count": null,
   "metadata": {},
   "outputs": [],
   "source": []
  }
 ],
 "metadata": {
  "kernelspec": {
   "display_name": "Python [conda env:tensorflow_p36]",
   "language": "python",
   "name": "conda-env-tensorflow_p36-py"
  },
  "language_info": {
   "codemirror_mode": {
    "name": "ipython",
    "version": 3
   },
   "file_extension": ".py",
   "mimetype": "text/x-python",
   "name": "python",
   "nbconvert_exporter": "python",
   "pygments_lexer": "ipython3",
   "version": "3.6.6"
  }
 },
 "nbformat": 4,
 "nbformat_minor": 2
}
