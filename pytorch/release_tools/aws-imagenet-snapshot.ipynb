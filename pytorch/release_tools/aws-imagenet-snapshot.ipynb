{
 "cells": [
  {
   "cell_type": "markdown",
   "metadata": {},
   "source": [
    "# Snapshot ImageNet volumes"
   ]
  },
  {
   "cell_type": "code",
   "execution_count": 33,
   "metadata": {},
   "outputs": [],
   "source": [
    "#import aws\n",
    "import os\n",
    "import sys\n",
    "import time\n",
    "#import tensorflow as tf\n",
    "import boto3\n",
    "\n",
    "sys.path.insert(0, os.environ['HOME']+'/git0/cluster')\n",
    "import util as u\n",
    "\n",
    "import importlib; importlib.reload(u)\n",
    "import boto3\n",
    "from collections import OrderedDict, defaultdict\n",
    "\n",
    "os.environ['AWS_DEFAULT_REGION']='us-east-1'\n",
    "client = u.create_ec2_client()\n",
    "ec2 = u.create_ec2_resource()"
   ]
  },
  {
   "cell_type": "markdown",
   "metadata": {},
   "source": [
    "## List volumes"
   ]
  },
  {
   "cell_type": "code",
   "execution_count": 2,
   "metadata": {
    "scrolled": true
   },
   "outputs": [
    {
     "name": "stdout",
     "output_type": "stream",
     "text": [
      "vol-0a1265aa66e50ec14 imagenet_blank <unattached>\n",
      "vol-082fde9b0b4d2c9b1 imagenet_00 <unattached>\n",
      "vol-009d7afd9b87f8a61 imagenet_15 <unattached>\n",
      "vol-0348dc4edaf0f1be2 imagenet_10 <unattached>\n",
      "vol-057e8c8c5661da393 imagenet_01 <unattached>\n",
      "vol-0468d7685e6aa3b4f imagenet_08 <unattached>\n",
      "vol-0be0410ea1d6f3d37 imagenet_04 <unattached>\n",
      "vol-08a31ce44d1c53565 imagenet_06 <unattached>\n",
      "vol-07c52c70b8066a682 imagenet_03 <unattached>\n",
      "vol-0b3d3969f8469273e imagenet_05 <unattached>\n",
      "vol-09bf2755dbe29762a imagenet_14 <unattached>\n",
      "vol-0246fea91e3aefe45 imagenet_07 <unattached>\n",
      "vol-0737306dae8d9f600 imagenet_09 <unattached>\n",
      "vol-07898d991ad5b2ec4 imagenet_13 <unattached>\n",
      "vol-0fcc55f82abd8187c imagenet_12 <unattached>\n",
      "vol-0de15547a309a9996 imagenet_11 <unattached>\n",
      "vol-03b0ac2225356b5ad imagenet_02 <unattached>\n",
      "vol-0e45af450f03103e6 imagenet_24 <unattached>\n",
      "vol-0a160f8959801bb8e imagenet_17 <unattached>\n",
      "vol-0e0655e5c98930d08 imagenet_26 <unattached>\n",
      "vol-0447b457352cc35f4 imagenet_19 <unattached>\n",
      "vol-087efb39868053450 imagenet_20 <unattached>\n",
      "vol-0a84f3778417786b1 imagenet_22 <unattached>\n",
      "vol-0306ad1b9f7fb52e7 imagenet_30 <unattached>\n",
      "vol-097c1e820b35ad4d4 imagenet_18 <unattached>\n",
      "vol-09ec114f65312ec5e imagenet_16 <unattached>\n",
      "vol-0c7aee0f72c18d75d imagenet_28 <unattached>\n",
      "vol-07c530cd1c7a89ca6 imagenet_29 <unattached>\n",
      "vol-07ae91f0e163618c4 imagenet_21 <unattached>\n",
      "vol-0cd25f0e57e53f657 imagenet_23 <unattached>\n",
      "vol-0b6de4a0aa80762f5 imagenet_31 <unattached>\n",
      "vol-0fc2a7a13fc0c78d1 imagenet_27 <unattached>\n",
      "vol-0a7a077b5b2c39983 imagenet_25 <unattached>\n",
      "vol-080b454ba8b6c930e imagenet_00 <unattached>\n",
      "vol-0366f43c6f11d70a4 imagenet_07 <unattached>\n",
      "vol-0906078fb3755f26b imagenet_02 <unattached>\n",
      "vol-0ff11c3679571ffb7 imagenet_03 <unattached>\n",
      "vol-01fe83e669539e95a imagenet_06 <unattached>\n",
      "vol-05f6f198ef7335307 imagenet_04 <unattached>\n",
      "vol-05796dc0cb2b36d05 imagenet_05 <unattached>\n",
      "vol-07229342f1111b610 imagenet_01 <unattached>\n",
      "vol-0f0e841d0cc657002 a.etcd-main.df86c4e8-pachydermcluster.kubernetes.com master-us-east-1a.masters.df86c4e8-pachydermcluster.kubernetes.com\n",
      "vol-06fb03280cf2598fb a.etcd-events.df86c4e8-pachydermcluster.kubernetes.com master-us-east-1a.masters.df86c4e8-pachydermcluster.kubernetes.com\n",
      "vol-048e29f604d2900a7 df86c4e8-pachydermcluster.kubernetes.com-dynamic-pvc-be84b9b6-fa31-11e7-ab45-1263c630187a nodes.df86c4e8-pachydermcluster.kubernetes.com\n",
      "vol-098245fc0081be780 noname api_service_ELBtest\n",
      "vol-08f8b6fef5df993b0 df86c4e8-pachydermcluster.kubernetes.com-dynamic-pvc-7dd40002-1d90-11e8-8f83-129abe8e441c nodes.df86c4e8-pachydermcluster.kubernetes.com\n",
      "vol-07a8f528905eb670d noname master-us-east-1a.masters.df86c4e8-pachydermcluster.kubernetes.com\n",
      "vol-038a951f93723b296 noname xview-api-downloads-prod\n",
      "vol-0068a00d203662314 noname API_service_redteam\n",
      "vol-0352939713dafda9d noname xview-api-prod-sub\n",
      "vol-03c52d02f53e39663 noname xview-api-prod-main\n",
      "vol-00fd363404028c489 noname xview-api-prod-main-2\n",
      "vol-0985851fa09c14d8d noname xview-api-prod-sub-2\n",
      "vol-035b1d0b27aa17793 noname pachyderm-jump-box\n",
      "vol-02eafaf70f4a5cfa8 a.etcd-main.6a4d8d28-pachydermcluster.kubernetes.com master-us-east-1a.masters.6a4d8d28-pachydermcluster.kubernetes.com\n",
      "vol-05763dbf313f5a28e a.etcd-events.6a4d8d28-pachydermcluster.kubernetes.com master-us-east-1a.masters.6a4d8d28-pachydermcluster.kubernetes.com\n",
      "vol-033ae3f74d959238c noname master-us-east-1a.masters.6a4d8d28-pachydermcluster.kubernetes.com\n",
      "vol-02c09e98c01898a7f 6a4d8d28-pachydermcluster.kubernetes.com-dynamic-pvc-4d54a48f-607b-11e8-ba9c-12f672ac1996 nodes.6a4d8d28-pachydermcluster.kubernetes.com\n",
      "vol-0e29fed67159d79d1 noname nodes.6a4d8d28-pachydermcluster.kubernetes.com\n",
      "vol-05b82437e87c6d28d noname nodes.6a4d8d28-pachydermcluster.kubernetes.com\n",
      "vol-0124fc1559a7d2cfe noname nodes.df86c4e8-pachydermcluster.kubernetes.com\n",
      "vol-08dc8742cb7d012ee noname nodes.df86c4e8-pachydermcluster.kubernetes.com\n",
      "vol-099f0002bd696c46f noname nodes.df86c4e8-pachydermcluster.kubernetes.com\n",
      "vol-03f248c9e160e3aa5 noname nodes.df86c4e8-pachydermcluster.kubernetes.com\n",
      "vol-09d7b2e8078d9cdc3 noname nodes.df86c4e8-pachydermcluster.kubernetes.com\n",
      "vol-0419ed3832949113c noname nodes.df86c4e8-pachydermcluster.kubernetes.com\n",
      "vol-0cd7ec29431a44813 noname nodes.df86c4e8-pachydermcluster.kubernetes.com\n",
      "vol-012e58e943db016d5 noname nodes.df86c4e8-pachydermcluster.kubernetes.com\n",
      "vol-0b0df03a3491c4868 noname nodes.df86c4e8-pachydermcluster.kubernetes.com\n",
      "vol-01532678f6bdd349c noname nodes.df86c4e8-pachydermcluster.kubernetes.com\n",
      "vol-0c98dc00f750860b6 noname nodes.df86c4e8-pachydermcluster.kubernetes.com\n",
      "vol-0455cb9eda660701f noname nodes.df86c4e8-pachydermcluster.kubernetes.com\n",
      "vol-095f33cbf48b1a521 noname nodes.df86c4e8-pachydermcluster.kubernetes.com\n",
      "vol-03f5156a8c2fd9b67 noname nodes.df86c4e8-pachydermcluster.kubernetes.com\n",
      "vol-049d713a22cf4c6ba noname xview-api-prod-sub-4\n",
      "vol-02d6f425cc254f48f noname xview-api-prod-sub-3\n"
     ]
    }
   ],
   "source": [
    "volumes = list(ec2.volumes.all())\n",
    "for v in volumes:\n",
    "  if v.attachments:\n",
    "    machine = u.get_name(ec2.Instance(v.attachments[0]['InstanceId']))\n",
    "  else:\n",
    "    machine = '<unattached>'\n",
    "  print(v.id, u.get_name(v), machine)"
   ]
  },
  {
   "cell_type": "code",
   "execution_count": 4,
   "metadata": {},
   "outputs": [],
   "source": [
    "def get_volume_dict():\n",
    "  \"\"\"Returns dictionary of named volumes\"\"\"\n",
    "  volumes = list(ec2.volumes.all())\n",
    "  d = {}\n",
    "  for v in volumes:\n",
    "    name = u.get_name(v)\n",
    "    if name != u.EMPTY_NAME:\n",
    "      d[name] = v\n",
    "  return d"
   ]
  },
  {
   "cell_type": "code",
   "execution_count": 5,
   "metadata": {},
   "outputs": [],
   "source": [
    "volume_dict = get_volume_dict()"
   ]
  },
  {
   "cell_type": "code",
   "execution_count": 6,
   "metadata": {},
   "outputs": [
    {
     "data": {
      "text/plain": [
       "ec2.Volume(id='vol-0a1265aa66e50ec14')"
      ]
     },
     "execution_count": 6,
     "metadata": {},
     "output_type": "execute_result"
    }
   ],
   "source": [
    "volume_dict['imagenet_blank']"
   ]
  },
  {
   "cell_type": "markdown",
   "metadata": {},
   "source": [
    "## Get volume name"
   ]
  },
  {
   "cell_type": "code",
   "execution_count": 94,
   "metadata": {},
   "outputs": [
    {
     "data": {
      "text/plain": [
       "'us-east-1a'"
      ]
     },
     "execution_count": 94,
     "metadata": {},
     "output_type": "execute_result"
    }
   ],
   "source": [
    "v.availability_zone"
   ]
  },
  {
   "cell_type": "code",
   "execution_count": null,
   "metadata": {},
   "outputs": [],
   "source": [
    "v.de"
   ]
  },
  {
   "cell_type": "code",
   "execution_count": 92,
   "metadata": {},
   "outputs": [],
   "source": [
    "ec2.volumes.filter?"
   ]
  },
  {
   "cell_type": "code",
   "execution_count": 91,
   "metadata": {},
   "outputs": [
    {
     "name": "stdout",
     "output_type": "stream",
     "text": [
      "vol-0a1265aa66e50ec14 imagenet_blank <unattached>\n",
      "vol-01618de9f651d2d97 imagenet_00 <unattached>\n",
      "vol-0a81561fcdad2b40d imagenet_01 <unattached>\n",
      "vol-02c96004b2457e1f0 imagenet_04 <unattached>\n",
      "vol-035672ec5f764f1e0 imagenet_03 <unattached>\n",
      "vol-06a91fb406ac2fa80 imagenet_07 <unattached>\n",
      "vol-0ad5ecc3a0fb9e47f imagenet_05 <unattached>\n",
      "vol-02686c94328ac66eb imagenet_02 <unattached>\n",
      "vol-087b30e9f1ce205c1 imagenet_06 <unattached>\n",
      "vol-0d723324500b507d7 imagenet_08 <unattached>\n",
      "vol-0b626f58e9bcaa33b imagenet_10 <unattached>\n",
      "vol-090c146550efe47d7 imagenet_15 <unattached>\n",
      "vol-011a3b23e48f59a13 imagenet_14 <unattached>\n",
      "vol-0499caaf9a0add8bc imagenet_09 <unattached>\n",
      "vol-05fbc56bb30641495 imagenet_11 <unattached>\n",
      "vol-0d56d4cbcb7b3fb48 imagenet_13 <unattached>\n",
      "vol-083a5365d789b516b imagenet_12 <unattached>\n",
      "vol-08fec5960e48515b9  0.tb.monitoring\n",
      "vol-0f0e841d0cc657002 a.etcd-main.df86c4e8-pachydermcluster.kubernetes.com master-us-east-1a.masters.df86c4e8-pachydermcluster.kubernetes.com\n",
      "vol-06fb03280cf2598fb a.etcd-events.df86c4e8-pachydermcluster.kubernetes.com master-us-east-1a.masters.df86c4e8-pachydermcluster.kubernetes.com\n",
      "vol-048e29f604d2900a7 df86c4e8-pachydermcluster.kubernetes.com-dynamic-pvc-be84b9b6-fa31-11e7-ab45-1263c630187a nodes.df86c4e8-pachydermcluster.kubernetes.com\n",
      "vol-098245fc0081be780  api_service_ELBtest\n",
      "vol-08f8b6fef5df993b0 df86c4e8-pachydermcluster.kubernetes.com-dynamic-pvc-7dd40002-1d90-11e8-8f83-129abe8e441c nodes.df86c4e8-pachydermcluster.kubernetes.com\n",
      "vol-07a8f528905eb670d  master-us-east-1a.masters.df86c4e8-pachydermcluster.kubernetes.com\n",
      "vol-038a951f93723b296  xview-api-downloads-prod\n",
      "vol-0068a00d203662314  API_service_redteam\n",
      "vol-0352939713dafda9d  xview-api-prod-sub\n",
      "vol-03c52d02f53e39663  xview-api-prod-main\n",
      "vol-00fd363404028c489  xview-api-prod-main-2\n",
      "vol-0985851fa09c14d8d  xview-api-prod-sub-2\n",
      "vol-035b1d0b27aa17793  pachyderm-jump-box\n",
      "vol-02eafaf70f4a5cfa8 a.etcd-main.6a4d8d28-pachydermcluster.kubernetes.com master-us-east-1a.masters.6a4d8d28-pachydermcluster.kubernetes.com\n",
      "vol-05763dbf313f5a28e a.etcd-events.6a4d8d28-pachydermcluster.kubernetes.com master-us-east-1a.masters.6a4d8d28-pachydermcluster.kubernetes.com\n",
      "vol-033ae3f74d959238c  master-us-east-1a.masters.6a4d8d28-pachydermcluster.kubernetes.com\n",
      "vol-02c09e98c01898a7f 6a4d8d28-pachydermcluster.kubernetes.com-dynamic-pvc-4d54a48f-607b-11e8-ba9c-12f672ac1996 nodes.6a4d8d28-pachydermcluster.kubernetes.com\n",
      "vol-0e29fed67159d79d1  nodes.6a4d8d28-pachydermcluster.kubernetes.com\n",
      "vol-05b82437e87c6d28d  nodes.6a4d8d28-pachydermcluster.kubernetes.com\n",
      "vol-0124fc1559a7d2cfe  nodes.df86c4e8-pachydermcluster.kubernetes.com\n",
      "vol-08dc8742cb7d012ee  nodes.df86c4e8-pachydermcluster.kubernetes.com\n",
      "vol-099f0002bd696c46f  nodes.df86c4e8-pachydermcluster.kubernetes.com\n",
      "vol-03f248c9e160e3aa5  nodes.df86c4e8-pachydermcluster.kubernetes.com\n",
      "vol-09d7b2e8078d9cdc3  nodes.df86c4e8-pachydermcluster.kubernetes.com\n",
      "vol-0419ed3832949113c  nodes.df86c4e8-pachydermcluster.kubernetes.com\n",
      "vol-0cd7ec29431a44813  nodes.df86c4e8-pachydermcluster.kubernetes.com\n",
      "vol-012e58e943db016d5  nodes.df86c4e8-pachydermcluster.kubernetes.com\n",
      "vol-0b0df03a3491c4868  nodes.df86c4e8-pachydermcluster.kubernetes.com\n",
      "vol-01532678f6bdd349c  nodes.df86c4e8-pachydermcluster.kubernetes.com\n",
      "vol-0c98dc00f750860b6  nodes.df86c4e8-pachydermcluster.kubernetes.com\n",
      "vol-0455cb9eda660701f  nodes.df86c4e8-pachydermcluster.kubernetes.com\n",
      "vol-095f33cbf48b1a521  nodes.df86c4e8-pachydermcluster.kubernetes.com\n",
      "vol-03f5156a8c2fd9b67  nodes.df86c4e8-pachydermcluster.kubernetes.com\n"
     ]
    }
   ],
   "source": [
    "volumes = list(ec2.volumes.all())\n",
    "for v in volumes:\n",
    "  if v.attachments:\n",
    "    machine = u.get_name(ec2.Instance(v.attachments[0]['InstanceId']))\n",
    "  else:\n",
    "    machine = '<unattached>'\n",
    "  print(v.id, u.get_name(v), machine)"
   ]
  },
  {
   "cell_type": "code",
   "execution_count": 6,
   "metadata": {
    "collapsed": true
   },
   "outputs": [],
   "source": [
    "def create_blank_volume(name, zone, size, iops, voltype='io1'):\n",
    "  tag_specs = [{\n",
    "    'ResourceType': 'volume',\n",
    "    'Tags': [{\n",
    "        'Key': 'Name',\n",
    "        'Value': name\n",
    "    }]\n",
    "  }]\n",
    "  volume = ec2.create_volume(Size=size, VolumeType=voltype,\n",
    "                             TagSpecifications=tag_specs,\n",
    "                             AvailabilityZone=zone,\n",
    "                             Iops=iops)\n",
    "  return volume"
   ]
  },
  {
   "cell_type": "code",
   "execution_count": 99,
   "metadata": {},
   "outputs": [
    {
     "data": {
      "text/plain": [
       "'io1'"
      ]
     },
     "execution_count": 99,
     "metadata": {},
     "output_type": "execute_result"
    }
   ],
   "source": [
    "vol.volume_type"
   ]
  },
  {
   "cell_type": "code",
   "execution_count": 22,
   "metadata": {},
   "outputs": [],
   "source": [
    "# imagenet is 200GB, so make 300GB just in case\n",
    "vol = create_blank_volume(\"imagenet_blank\", \"us-east-1c\", size=300, iops=10*1000)"
   ]
  },
  {
   "cell_type": "code",
   "execution_count": 14,
   "metadata": {},
   "outputs": [],
   "source": [
    "def lookup_volume(name):\n",
    "  vols = []\n",
    "  for v in ec2.volumes.all():\n",
    "    if u.get_name(v) == name:\n",
    "      vols.append(v)\n",
    "  assert len(vols)>0, f\"volume {name} not found\"\n",
    "  assert len(vols)<2, f\"multiple volumes with name={name}\"\n",
    "  return vols[0]"
   ]
  },
  {
   "cell_type": "code",
   "execution_count": 33,
   "metadata": {},
   "outputs": [],
   "source": [
    "ATTACH_WAIT_INTERVAL_SEC=5\n",
    "def attach_vol(vol, instance, device='/dev/xvdf'):\n",
    "  while True:\n",
    "    try:\n",
    "      response = vol.attach_to_instance(InstanceId=instance.id, Device=device)\n",
    "      print(f'Attaching {u.get_name(vol)} to {u.get_name(instance)}: response={response.get(\"State\", \"none\")}')\n",
    "    except Exception as e:\n",
    "      print(f'Error attaching volume: ({e}). Retrying in {ATTACH_WAIT_INTERVAL_SEC}', e)\n",
    "      time.sleep(ATTACH_WAIT_INTERVAL_SEC)\n",
    "      continue\n",
    "    else:\n",
    "      print('Attachment successful')\n",
    "      break"
   ]
  },
  {
   "cell_type": "code",
   "execution_count": 34,
   "metadata": {},
   "outputs": [],
   "source": [
    "vol = u.lookup_volume('imagenet_blank')\n",
    "instance = u.get_instance('va')"
   ]
  },
  {
   "cell_type": "code",
   "execution_count": 36,
   "metadata": {},
   "outputs": [
    {
     "data": {
      "text/plain": [
       "'0.worker.eight-machines-va02'"
      ]
     },
     "execution_count": 36,
     "metadata": {},
     "output_type": "execute_result"
    }
   ],
   "source": [
    "u.get_name(instance)"
   ]
  },
  {
   "cell_type": "code",
   "execution_count": 35,
   "metadata": {},
   "outputs": [
    {
     "name": "stdout",
     "output_type": "stream",
     "text": [
      "Attaching imagenet_blank to 0.worker.eight-machines-va02: response=attaching\n",
      "Attachment successful\n"
     ]
    }
   ],
   "source": [
    "attach_vol(vol, instance)"
   ]
  },
  {
   "cell_type": "markdown",
   "metadata": {},
   "source": [
    "## Mount volume"
   ]
  },
  {
   "cell_type": "code",
   "execution_count": 61,
   "metadata": {},
   "outputs": [
    {
     "ename": "DataNotFoundError",
     "evalue": "Unable to load data for: endpoints",
     "output_type": "error",
     "traceback": [
      "\u001b[0;31m---------------------------------------------------------------------------\u001b[0m",
      "\u001b[0;31mDataNotFoundError\u001b[0m                         Traceback (most recent call last)",
      "\u001b[0;32m<ipython-input-61-160f4b54f7c7>\u001b[0m in \u001b[0;36m<module>\u001b[0;34m()\u001b[0m\n\u001b[1;32m      2\u001b[0m \u001b[0mrun\u001b[0m \u001b[0;34m=\u001b[0m \u001b[0maws_backend\u001b[0m\u001b[0;34m.\u001b[0m\u001b[0mmake_run\u001b[0m\u001b[0;34m(\u001b[0m\u001b[0;34m'new-test-run'\u001b[0m\u001b[0;34m)\u001b[0m\u001b[0;34m\u001b[0m\u001b[0m\n\u001b[1;32m      3\u001b[0m job = run.make_job('worker', skip_existing_job_validation=True, instance_type='asdf',\n\u001b[0;32m----> 4\u001b[0;31m                   availability_zone='asdf')\n\u001b[0m",
      "\u001b[0;32m~/git0/cluster/aws_backend.py\u001b[0m in \u001b[0;36mmake_job\u001b[0;34m(self, role_name, num_tasks, skip_existing_job_validation, **kwargs)\u001b[0m\n\u001b[1;32m     54\u001b[0m     \u001b[0;31m# TODO: document launch parameters\u001b[0m\u001b[0;34m\u001b[0m\u001b[0;34m\u001b[0m\u001b[0m\n\u001b[1;32m     55\u001b[0m     \u001b[0mjob_name\u001b[0m \u001b[0;34m=\u001b[0m \u001b[0mu\u001b[0m\u001b[0;34m.\u001b[0m\u001b[0mformat_job_name\u001b[0m\u001b[0;34m(\u001b[0m\u001b[0mrole_name\u001b[0m\u001b[0;34m,\u001b[0m \u001b[0mself\u001b[0m\u001b[0;34m.\u001b[0m\u001b[0mname\u001b[0m\u001b[0;34m)\u001b[0m\u001b[0;34m\u001b[0m\u001b[0m\n\u001b[0;32m---> 56\u001b[0;31m     \u001b[0minstances\u001b[0m \u001b[0;34m=\u001b[0m \u001b[0mu\u001b[0m\u001b[0;34m.\u001b[0m\u001b[0mlookup_aws_instances\u001b[0m\u001b[0;34m(\u001b[0m\u001b[0mjob_name\u001b[0m\u001b[0;34m)\u001b[0m\u001b[0;34m\u001b[0m\u001b[0m\n\u001b[0m\u001b[1;32m     57\u001b[0m     \u001b[0mkwargs\u001b[0m \u001b[0;34m=\u001b[0m \u001b[0mu\u001b[0m\u001b[0;34m.\u001b[0m\u001b[0mmerge_kwargs\u001b[0m\u001b[0;34m(\u001b[0m\u001b[0mkwargs\u001b[0m\u001b[0;34m,\u001b[0m \u001b[0mself\u001b[0m\u001b[0;34m.\u001b[0m\u001b[0mkwargs\u001b[0m\u001b[0;34m)\u001b[0m\u001b[0;34m\u001b[0m\u001b[0m\n\u001b[1;32m     58\u001b[0m     \u001b[0mami\u001b[0m \u001b[0;34m=\u001b[0m \u001b[0mkwargs\u001b[0m\u001b[0;34m.\u001b[0m\u001b[0mget\u001b[0m\u001b[0;34m(\u001b[0m\u001b[0;34m'ami'\u001b[0m\u001b[0;34m,\u001b[0m \u001b[0;34m''\u001b[0m\u001b[0;34m)\u001b[0m\u001b[0;34m\u001b[0m\u001b[0m\n",
      "\u001b[0;32m~/git0/cluster/util.py\u001b[0m in \u001b[0;36mlookup_aws_instances\u001b[0;34m(job_name, states)\u001b[0m\n\u001b[1;32m    677\u001b[0m \u001b[0;34m\u001b[0m\u001b[0m\n\u001b[1;32m    678\u001b[0m \u001b[0;32mdef\u001b[0m \u001b[0mlookup_aws_instances\u001b[0m\u001b[0;34m(\u001b[0m\u001b[0mjob_name\u001b[0m\u001b[0;34m,\u001b[0m \u001b[0mstates\u001b[0m\u001b[0;34m=\u001b[0m\u001b[0;34m[\u001b[0m\u001b[0;34m'running'\u001b[0m\u001b[0;34m,\u001b[0m \u001b[0;34m'stopped'\u001b[0m\u001b[0;34m]\u001b[0m\u001b[0;34m)\u001b[0m\u001b[0;34m:\u001b[0m\u001b[0;34m\u001b[0m\u001b[0m\n\u001b[0;32m--> 679\u001b[0;31m   \"\"\"Returns all AWS instances for given AWS job name, like\n\u001b[0m\u001b[1;32m    680\u001b[0m    simple.worker\"\"\"\n\u001b[1;32m    681\u001b[0m \u001b[0;34m\u001b[0m\u001b[0m\n",
      "\u001b[0;32m~/git0/cluster/util.py\u001b[0m in \u001b[0;36mcreate_ec2_resource\u001b[0;34m()\u001b[0m\n\u001b[1;32m    136\u001b[0m \u001b[0;32mdef\u001b[0m \u001b[0mcreate_efs_client\u001b[0m\u001b[0;34m(\u001b[0m\u001b[0;34m)\u001b[0m\u001b[0;34m:\u001b[0m\u001b[0;34m\u001b[0m\u001b[0m\n\u001b[1;32m    137\u001b[0m   \u001b[0;31m# TODO: below sometimes fails with\u001b[0m\u001b[0;34m\u001b[0m\u001b[0;34m\u001b[0m\u001b[0m\n\u001b[0;32m--> 138\u001b[0;31m   \u001b[0;31m# botocore.exceptions.DataNotFoundError: Unable to load data for: endpoints\u001b[0m\u001b[0;34m\u001b[0m\u001b[0;34m\u001b[0m\u001b[0m\n\u001b[0m\u001b[1;32m    139\u001b[0m   \u001b[0;31m# need to add retry\u001b[0m\u001b[0;34m\u001b[0m\u001b[0;34m\u001b[0m\u001b[0m\n\u001b[1;32m    140\u001b[0m   \u001b[0;32mreturn\u001b[0m \u001b[0mget_session\u001b[0m\u001b[0;34m(\u001b[0m\u001b[0;34m)\u001b[0m\u001b[0;34m.\u001b[0m\u001b[0mclient\u001b[0m\u001b[0;34m(\u001b[0m\u001b[0;34m'efs'\u001b[0m\u001b[0;34m)\u001b[0m\u001b[0;34m\u001b[0m\u001b[0m\n",
      "\u001b[0;32m~/anaconda/envs/gpubox/lib/python3.6/site-packages/boto3/session.py\u001b[0m in \u001b[0;36mresource\u001b[0;34m(self, service_name, region_name, api_version, use_ssl, verify, endpoint_url, aws_access_key_id, aws_secret_access_key, aws_session_token, config)\u001b[0m\n\u001b[1;32m    387\u001b[0m             \u001b[0maws_access_key_id\u001b[0m\u001b[0;34m=\u001b[0m\u001b[0maws_access_key_id\u001b[0m\u001b[0;34m,\u001b[0m\u001b[0;34m\u001b[0m\u001b[0m\n\u001b[1;32m    388\u001b[0m             \u001b[0maws_secret_access_key\u001b[0m\u001b[0;34m=\u001b[0m\u001b[0maws_secret_access_key\u001b[0m\u001b[0;34m,\u001b[0m\u001b[0;34m\u001b[0m\u001b[0m\n\u001b[0;32m--> 389\u001b[0;31m             aws_session_token=aws_session_token, config=config)\n\u001b[0m\u001b[1;32m    390\u001b[0m         \u001b[0mservice_model\u001b[0m \u001b[0;34m=\u001b[0m \u001b[0mclient\u001b[0m\u001b[0;34m.\u001b[0m\u001b[0mmeta\u001b[0m\u001b[0;34m.\u001b[0m\u001b[0mservice_model\u001b[0m\u001b[0;34m\u001b[0m\u001b[0m\n\u001b[1;32m    391\u001b[0m \u001b[0;34m\u001b[0m\u001b[0m\n",
      "\u001b[0;32m~/anaconda/envs/gpubox/lib/python3.6/site-packages/boto3/session.py\u001b[0m in \u001b[0;36mclient\u001b[0;34m(self, service_name, region_name, api_version, use_ssl, verify, endpoint_url, aws_access_key_id, aws_secret_access_key, aws_session_token, config)\u001b[0m\n\u001b[1;32m    261\u001b[0m             \u001b[0maws_access_key_id\u001b[0m\u001b[0;34m=\u001b[0m\u001b[0maws_access_key_id\u001b[0m\u001b[0;34m,\u001b[0m\u001b[0;34m\u001b[0m\u001b[0m\n\u001b[1;32m    262\u001b[0m             \u001b[0maws_secret_access_key\u001b[0m\u001b[0;34m=\u001b[0m\u001b[0maws_secret_access_key\u001b[0m\u001b[0;34m,\u001b[0m\u001b[0;34m\u001b[0m\u001b[0m\n\u001b[0;32m--> 263\u001b[0;31m             aws_session_token=aws_session_token, config=config)\n\u001b[0m\u001b[1;32m    264\u001b[0m \u001b[0;34m\u001b[0m\u001b[0m\n\u001b[1;32m    265\u001b[0m     def resource(self, service_name, region_name=None, api_version=None,\n",
      "\u001b[0;32m~/.local/lib/python3.6/site-packages/botocore/session.py\u001b[0m in \u001b[0;36mcreate_client\u001b[0;34m(self, service_name, region_name, api_version, use_ssl, verify, endpoint_url, aws_access_key_id, aws_secret_access_key, aws_session_token, config)\u001b[0m\n",
      "\u001b[0;32m~/.local/lib/python3.6/site-packages/botocore/session.py\u001b[0m in \u001b[0;36mget_component\u001b[0;34m(self, name)\u001b[0m\n",
      "\u001b[0;32m~/.local/lib/python3.6/site-packages/botocore/session.py\u001b[0m in \u001b[0;36mget_component\u001b[0;34m(self, name)\u001b[0m\n",
      "\u001b[0;32m~/.local/lib/python3.6/site-packages/botocore/session.py\u001b[0m in \u001b[0;36mcreate_default_resolver\u001b[0;34m()\u001b[0m\n",
      "\u001b[0;32m~/.local/lib/python3.6/site-packages/botocore/loaders.py\u001b[0m in \u001b[0;36m_wrapper\u001b[0;34m(self, *args, **kwargs)\u001b[0m\n",
      "\u001b[0;32m~/.local/lib/python3.6/site-packages/botocore/loaders.py\u001b[0m in \u001b[0;36mload_data\u001b[0;34m(self, name)\u001b[0m\n",
      "\u001b[0;31mDataNotFoundError\u001b[0m: Unable to load data for: endpoints"
     ]
    }
   ],
   "source": [
    "import aws_backend\n",
    "run = aws_backend.make_run('new-test-run')\n",
    "job = run.make_job('worker', skip_existing_job_validation=True, instance_type='asdf',\n",
    "                  availability_zone='asdf')"
   ]
  },
  {
   "cell_type": "code",
   "execution_count": 68,
   "metadata": {},
   "outputs": [],
   "source": [
    "/dev/nvme0n1p1                                     8376300    1130668          7245632  14% /\n"
   ]
  },
  {
   "cell_type": "code",
   "execution_count": 41,
   "metadata": {},
   "outputs": [
    {
     "name": "stdout",
     "output_type": "stream",
     "text": [
      "2018-07-30 16:42:48.405044 0.worker.eight-machines-va02: Running initialize\n",
      "ssh_to_host ubuntu@34.207.107.99\n",
      "2018-07-30 16:42:50.742881 0.worker.eight-machines-va02: tmux> mkdir -p /tmp/tmux\n",
      "2018-07-30 16:42:52.399528 0.worker.eight-machines-va02: Mounting EFS\n",
      "2018-07-30 16:42:53.460376 0.worker.eight-machines-va02: tmux> sudo mkdir -p /efs\n",
      "2018-07-30 16:42:55.073735 0.worker.eight-machines-va02: tmux> sudo chmod 777 /efs\n",
      "2018-07-30 16:42:56.702661 0.worker.eight-machines-va02: tmux> sudo mount -t nfs -o nfsvers=4.1,rsize=1048576,wsize=1048576,hard,timeo=600,retrans=2 fs-de3d0697.efs.us-east-1.amazonaws.com:/ /efs\n",
      "2018-07-30 16:42:58.334179 0.worker.eight-machines-va02: Warning: command sudo mount -t nfs -o nfsvers=4.1,rsize=1048576,wsize=1048576,hard,timeo=600,retrans=2 fs-de3d0697.efs.us-east-1.amazonaws.com:/ /efs returned status 32\n",
      "2018-07-30 16:42:58.334393 0.worker.eight-machines-va02: Checking for /tmp/is_initialized file\n",
      "2018-07-30 16:42:59.196061 0.worker.eight-machines-va02: reusing previous initialized state\n",
      "2018-07-30 16:42:59.196281 0.worker.eight-machines-va02: Initialize complete\n",
      "2018-07-30 16:42:59.196345 0.worker.eight-machines-va02: ssh -i /Users/yaroslav/nexus-yaroslav-us-east-1.pem -o StrictHostKeyChecking=no ubuntu@34.207.107.99\n",
      "tmux a\n",
      "2018-07-30 16:42:59.196400 0.worker.eight-machines-va02: Checking for /tmp/is_initialized file\n"
     ]
    }
   ],
   "source": [
    "job.wait_until_ready()"
   ]
  },
  {
   "cell_type": "code",
   "execution_count": 45,
   "metadata": {},
   "outputs": [],
   "source": [
    "#Follow recipe on https://docs.aws.amazon.com/AWSEC2/latest/UserGuide/ebs-using-volumes.html\n",
    "# cd ~\n",
    "# sudo mkfs -t ext4 /dev/xvdf\n",
    "# sudo mount /dev/xvdf data\n",
    "# mkdir data\n",
    "# sudo mount /dev/xvdf data\n",
    "# sudo chown data `whoami`"
   ]
  },
  {
   "cell_type": "markdown",
   "metadata": {},
   "source": [
    "## Copy data"
   ]
  },
  {
   "cell_type": "code",
   "execution_count": null,
   "metadata": {},
   "outputs": [],
   "source": [
    "# cp -R data0 data"
   ]
  },
  {
   "cell_type": "markdown",
   "metadata": {},
   "source": [
    "### Create Snapshot "
   ]
  },
  {
   "cell_type": "code",
   "execution_count": 3,
   "metadata": {},
   "outputs": [
    {
     "data": {
      "text/plain": [
       "'us-east-1'"
      ]
     },
     "execution_count": 3,
     "metadata": {},
     "output_type": "execute_result"
    }
   ],
   "source": [
    "u.get_region()"
   ]
  },
  {
   "cell_type": "code",
   "execution_count": 59,
   "metadata": {},
   "outputs": [
    {
     "data": {
      "text/plain": [
       "'imagenet_blank'"
      ]
     },
     "execution_count": 59,
     "metadata": {},
     "output_type": "execute_result"
    }
   ],
   "source": [
    "u.get_name(vol)"
   ]
  },
  {
   "cell_type": "code",
   "execution_count": 110,
   "metadata": {},
   "outputs": [],
   "source": [
    "ec2.create_snapshot?"
   ]
  },
  {
   "cell_type": "code",
   "execution_count": 51,
   "metadata": {},
   "outputs": [],
   "source": [
    "snapshot = ec2.create_snapshot(Description=f'{u.get_name(vol)} snapshot', VolumeId=vol.id,)"
   ]
  },
  {
   "cell_type": "code",
   "execution_count": 56,
   "metadata": {},
   "outputs": [],
   "source": [
    "snapshot.reload()"
   ]
  },
  {
   "cell_type": "code",
   "execution_count": 57,
   "metadata": {},
   "outputs": [
    {
     "data": {
      "text/plain": [
       "'completed'"
      ]
     },
     "execution_count": 57,
     "metadata": {},
     "output_type": "execute_result"
    }
   ],
   "source": [
    "snapshot.state"
   ]
  },
  {
   "cell_type": "code",
   "execution_count": 48,
   "metadata": {},
   "outputs": [
    {
     "data": {
      "text/plain": [
       "'imagenet_blank'"
      ]
     },
     "execution_count": 48,
     "metadata": {},
     "output_type": "execute_result"
    }
   ],
   "source": [
    "u.get_name(vol)"
   ]
  },
  {
   "cell_type": "code",
   "execution_count": null,
   "metadata": {},
   "outputs": [],
   "source": [
    "# give snapshot a name"
   ]
  },
  {
   "cell_type": "code",
   "execution_count": 111,
   "metadata": {},
   "outputs": [
    {
     "data": {
      "text/plain": [
       "[{'Key': 'Name', 'Value': 'hi'}]"
      ]
     },
     "execution_count": 111,
     "metadata": {},
     "output_type": "execute_result"
    }
   ],
   "source": [
    "u.make_name('hi')"
   ]
  },
  {
   "cell_type": "code",
   "execution_count": 53,
   "metadata": {},
   "outputs": [
    {
     "data": {
      "text/plain": [
       "'us-east-1'"
      ]
     },
     "execution_count": 53,
     "metadata": {},
     "output_type": "execute_result"
    }
   ],
   "source": [
    "vpc.create_tags(Tags=u.make_name(VPC_NAME))\n"
   ]
  },
  {
   "cell_type": "markdown",
   "metadata": {},
   "source": [
    "## Replicate snapshot in zone"
   ]
  },
  {
   "cell_type": "code",
   "execution_count": 62,
   "metadata": {},
   "outputs": [
    {
     "data": {
      "text/plain": [
       "ec2.Snapshot(id='snap-0d37b903e01bb794a')"
      ]
     },
     "execution_count": 62,
     "metadata": {},
     "output_type": "execute_result"
    }
   ],
   "source": [
    "snapshot."
   ]
  },
  {
   "cell_type": "code",
   "execution_count": 63,
   "metadata": {},
   "outputs": [],
   "source": [
    "def create_tags(name):\n",
    "  return [{\n",
    "    'ResourceType': 'volume',\n",
    "    'Tags': [{\n",
    "        'Key': 'Name',\n",
    "        'Value': name\n",
    "    }]\n",
    "}]"
   ]
  },
  {
   "cell_type": "code",
   "execution_count": 64,
   "metadata": {},
   "outputs": [
    {
     "data": {
      "text/plain": [
       "[{'ResourceType': 'volume', 'Tags': [{'Key': 'Name', 'Value': 'imagenet_0'}]}]"
      ]
     },
     "execution_count": 64,
     "metadata": {},
     "output_type": "execute_result"
    }
   ],
   "source": [
    "create_tags('imagenet_0')"
   ]
  },
  {
   "cell_type": "code",
   "execution_count": 73,
   "metadata": {},
   "outputs": [],
   "source": [
    "vol0 = ec2.create_volume(Size=300, VolumeType='io1', TagSpecifications=create_tags('imagenet_0'),\n",
    "                           AvailabilityZone='us-east-1c', SnapshotId=snapshot.id,\n",
    "                           Iops=10000)"
   ]
  },
  {
   "cell_type": "code",
   "execution_count": 74,
   "metadata": {},
   "outputs": [
    {
     "data": {
      "text/plain": [
       "ec2.Volume(id='vol-07ed8d0f842113290')"
      ]
     },
     "execution_count": 74,
     "metadata": {},
     "output_type": "execute_result"
    }
   ],
   "source": [
    "vol0"
   ]
  },
  {
   "cell_type": "code",
   "execution_count": 69,
   "metadata": {},
   "outputs": [
    {
     "data": {
      "text/plain": [
       "{'ResponseMetadata': {'RequestId': '70a8063b-cfa7-4d19-9c6a-8b3b9b455ae2',\n",
       "  'HTTPStatusCode': 200,\n",
       "  'HTTPHeaders': {'content-type': 'text/xml;charset=UTF-8',\n",
       "   'transfer-encoding': 'chunked',\n",
       "   'vary': 'Accept-Encoding',\n",
       "   'date': 'Wed, 01 Aug 2018 16:58:16 GMT',\n",
       "   'server': 'AmazonEC2'},\n",
       "  'RetryAttempts': 0}}"
      ]
     },
     "execution_count": 69,
     "metadata": {},
     "output_type": "execute_result"
    }
   ],
   "source": [
    "def replicate_imagenet(num_replicas, zone, snapshot):\n",
    "  for i in range(num_replicas):\n",
    "    ec2.create_volume(Size=300, VolumeType='io1', TagSpecifications=create_tags('imagenet_%02d'%(i)),\n",
    "                           AvailabilityZone='us-east-1c', SnapshotId=snapshot.id,\n",
    "                           Iops=10000)"
   ]
  },
  {
   "cell_type": "code",
   "execution_count": 75,
   "metadata": {},
   "outputs": [
    {
     "data": {
      "text/plain": [
       "'snap-0d37b903e01bb794a'"
      ]
     },
     "execution_count": 75,
     "metadata": {},
     "output_type": "execute_result"
    }
   ],
   "source": [
    "snapshot.id"
   ]
  },
  {
   "cell_type": "code",
   "execution_count": 76,
   "metadata": {},
   "outputs": [
    {
     "data": {
      "text/plain": [
       "ec2.Snapshot(id='snap-0d37b903e01bb794a')"
      ]
     },
     "execution_count": 76,
     "metadata": {},
     "output_type": "execute_result"
    }
   ],
   "source": [
    "ec2.Snapshot(snapshot.id)"
   ]
  },
  {
   "cell_type": "code",
   "execution_count": 77,
   "metadata": {},
   "outputs": [
    {
     "data": {
      "text/plain": [
       "ec2.Volume(id='vol-0a1265aa66e50ec14')"
      ]
     },
     "execution_count": 77,
     "metadata": {},
     "output_type": "execute_result"
    }
   ],
   "source": [
    "snapshot.volume"
   ]
  },
  {
   "cell_type": "markdown",
   "metadata": {},
   "source": [
    "## List snapshots"
   ]
  },
  {
   "cell_type": "code",
   "execution_count": 85,
   "metadata": {},
   "outputs": [],
   "source": [
    "snapshots = list(ec2.snapshots.filter(OwnerIds=['self']))"
   ]
  },
  {
   "cell_type": "code",
   "execution_count": 86,
   "metadata": {},
   "outputs": [
    {
     "data": {
      "text/plain": [
       "12"
      ]
     },
     "execution_count": 86,
     "metadata": {},
     "output_type": "execute_result"
    }
   ],
   "source": [
    "len(snapshots)"
   ]
  },
  {
   "cell_type": "code",
   "execution_count": 89,
   "metadata": {},
   "outputs": [
    {
     "name": "stdout",
     "output_type": "stream",
     "text": [
      "snap-02c1f2467776319db Copied for DestinationAmi ami-78dfe807 from SourceAmi ami-6583d71d for SourceSnapshot snap-0221e898577adee42. Task created on 1,531,301,312,003.\n",
      "snap-07df371431e271731 Created by CreateImage(i-0ca86b25ccfdb2bad) for ami-dd9184a2 from vol-09a0982694adda14e\n",
      "snap-093b8a259897f9cc2 Copied for DestinationAmi ami-72b7bf0d from SourceAmi ami-70306b08 for SourceSnapshot snap-0d100bf7117fc7e89. Task created on 1,532,748,613,402.\n",
      "snap-02e518719181ccfa7 Copied for DestinationAmi ami-e6090199 from SourceAmi ami-bc227ac4 for SourceSnapshot snap-0d5a3a544dd02d4ca. Task created on 1,532,700,561,717.\n",
      "snap-0e7edc7112e923950 Copied for DestinationAmi ami-a9bb9bd6 from SourceAmi ami-53c8822b for SourceSnapshot snap-0f26a36b43deea971. Task created on 1,530,640,163,368.\n",
      "snap-00cecc84f1adf0af0 Created by CreateImage(i-0ddb9b1d8504b342f) for ami-5b524f21 from vol-00cbc9a74e2ebff28\n",
      "snap-07f0a9369c4974e2f Created by CreateImage(i-016e2869519aa7eef) for ami-f9d6dc83 from vol-009d3f7a768ce25c3\n",
      "snap-07d6b1a1dcbf8a688 Created by CreateImage(i-041f134bc867a0556) for ami-67c4871d from vol-04d57187dc3f33301\n",
      "snap-0d28af9890f62c69b Created by CreateImage(i-0884617da04b5a90e) for ami-1fc08065 from vol-0318f9cf517b9bdce\n",
      "snap-0d37b903e01bb794a imagenet_blank snapshot\n",
      "snap-078553d4d0d99c2fb Imagenet data snapshot\n",
      "snap-06ea8f514f648fc5f Copied for DestinationAmi ami-e6090199 from SourceAmi ami-bc227ac4 for SourceSnapshot snap-063133a5a7d71c6fe. Task created on 1,532,700,561,717.\n"
     ]
    }
   ],
   "source": [
    "for snap in snapshots:\n",
    "  print(snap.id, snap.description)"
   ]
  },
  {
   "cell_type": "code",
   "execution_count": 90,
   "metadata": {},
   "outputs": [
    {
     "data": {
      "text/plain": [
       "'Copied for DestinationAmi ami-e6090199 from SourceAmi ami-bc227ac4 for SourceSnapshot snap-063133a5a7d71c6fe. Task created on 1,532,700,561,717.'"
      ]
     },
     "execution_count": 90,
     "metadata": {},
     "output_type": "execute_result"
    }
   ],
   "source": [
    "snap.description"
   ]
  },
  {
   "cell_type": "code",
   "execution_count": null,
   "metadata": {},
   "outputs": [],
   "source": [
    "snap.modify_attribute"
   ]
  },
  {
   "cell_type": "code",
   "execution_count": null,
   "metadata": {},
   "outputs": [],
   "source": [
    "snapshots = list(ec2.snapshots.all())\n",
    "for v in volumes:\n",
    "  if v.attachments:\n",
    "    machine = u.get_name(ec2.Instance(v.attachments[0]['InstanceId']))\n",
    "  else:\n",
    "    machine = '<unattached>'\n",
    "  print(v.id, u.get_name(v), machine)"
   ]
  },
  {
   "cell_type": "markdown",
   "metadata": {},
   "source": [
    "# Copy snapshot, make public"
   ]
  },
  {
   "cell_type": "code",
   "execution_count": 14,
   "metadata": {},
   "outputs": [],
   "source": [
    "vol = u.get_volume_dict()['imagenet_blank']"
   ]
  },
  {
   "cell_type": "code",
   "execution_count": null,
   "metadata": {},
   "outputs": [],
   "source": [
    "vol0 = ec2.create_volume(Size=300, VolumeType='io1', TagSpecifications=create_tags('imagenet_0'),\n",
    "                           AvailabilityZone='us-east-1c', SnapshotId=snapshot.id,\n",
    "                           Iops=10000)"
   ]
  },
  {
   "cell_type": "code",
   "execution_count": 20,
   "metadata": {},
   "outputs": [
    {
     "data": {
      "text/plain": [
       "[{'Key': 'Name', 'Value': 'asdf'}]"
      ]
     },
     "execution_count": 20,
     "metadata": {},
     "output_type": "execute_result"
    }
   ],
   "source": [
    "u.make_name('asdf')"
   ]
  },
  {
   "cell_type": "code",
   "execution_count": 54,
   "metadata": {},
   "outputs": [],
   "source": [
    "snapshot = ec2.create_snapshot(Description=f'imagenet18', VolumeId=vol.id,\n",
    "                    TagSpecifications=[{'ResourceType':'snapshot', 'Tags':u.make_name('imagenet18')}])"
   ]
  },
  {
   "cell_type": "code",
   "execution_count": 57,
   "metadata": {},
   "outputs": [
    {
     "data": {
      "text/plain": [
       "[ec2.Snapshot(id='snap-08688d235aae5155e')]"
      ]
     },
     "execution_count": 57,
     "metadata": {},
     "output_type": "execute_result"
    }
   ],
   "source": [
    "# look up by name\n",
    "list(ec2.snapshots.filter(Filters=[{'Name':'tag:Name', 'Values':['imagenet18']}]))"
   ]
  },
  {
   "cell_type": "code",
   "execution_count": 66,
   "metadata": {},
   "outputs": [
    {
     "data": {
      "text/plain": [
       "[ec2.Snapshot(id='snap-08688d235aae5155e')]"
      ]
     },
     "execution_count": 66,
     "metadata": {},
     "output_type": "execute_result"
    }
   ],
   "source": [
    "# lookup by description\n",
    "list(ec2.snapshots.filter(Filters=[{'Name':'description', 'Values':['imagenet18']},{'Name':'owner-id', 'Values':['316880547378']}]))"
   ]
  },
  {
   "cell_type": "code",
   "execution_count": 64,
   "metadata": {},
   "outputs": [],
   "source": [
    "ec2.snapshots.filter?"
   ]
  },
  {
   "cell_type": "code",
   "execution_count": 67,
   "metadata": {},
   "outputs": [],
   "source": [
    "snapshot = u.get_snapshot_dict()['imagenet18']"
   ]
  },
  {
   "cell_type": "code",
   "execution_count": 59,
   "metadata": {},
   "outputs": [],
   "source": [
    "response = snapshot.modify_attribute(\n",
    "    Attribute='createVolumePermission',\n",
    "    CreateVolumePermission={\n",
    "        'Add': [\n",
    "            {\n",
    "                'Group': 'all',\n",
    "            },\n",
    "        ],\n",
    "    },\n",
    "    GroupNames=[\n",
    "        'string',\n",
    "    ],\n",
    "    OperationType='add',\n",
    ")"
   ]
  },
  {
   "cell_type": "code",
   "execution_count": 68,
   "metadata": {},
   "outputs": [
    {
     "data": {
      "text/plain": [
       "'completed'"
      ]
     },
     "execution_count": 68,
     "metadata": {},
     "output_type": "execute_result"
    }
   ],
   "source": [
    "snapshot.state"
   ]
  },
  {
   "cell_type": "markdown",
   "metadata": {},
   "source": [
    "# List volumes"
   ]
  },
  {
   "cell_type": "code",
   "execution_count": 108,
   "metadata": {},
   "outputs": [],
   "source": [
    "  v = list(ec2.volumes.filter(Filters=[{'Name':'tag:Name', 'Values':['imagenet_00']}, {\"Name\":\"availability-zone\", 'Values':['us-east-1c']}]).all())\n"
   ]
  },
  {
   "cell_type": "code",
   "execution_count": 109,
   "metadata": {},
   "outputs": [
    {
     "data": {
      "text/plain": [
       "[ec2.Volume(id='vol-082fde9b0b4d2c9b1')]"
      ]
     },
     "execution_count": 109,
     "metadata": {},
     "output_type": "execute_result"
    }
   ],
   "source": [
    "v"
   ]
  },
  {
   "cell_type": "code",
   "execution_count": 107,
   "metadata": {},
   "outputs": [],
   "source": [
    "ec2.volumes.filter?"
   ]
  },
  {
   "cell_type": "code",
   "execution_count": null,
   "metadata": {},
   "outputs": [],
   "source": [
    " v = list(ec2.volumes.filter(Filters=[{'Name':'tag:Name', 'Values':['imagenet_00']}]).all())\n"
   ]
  }
 ],
 "metadata": {
  "anaconda-cloud": {},
  "kernelspec": {
   "display_name": "Python 3",
   "language": "python",
   "name": "python3"
  },
  "language_info": {
   "codemirror_mode": {
    "name": "ipython",
    "version": 3
   },
   "file_extension": ".py",
   "mimetype": "text/x-python",
   "name": "python",
   "nbconvert_exporter": "python",
   "pygments_lexer": "ipython3",
   "version": "3.6.5"
  },
  "toc": {
   "colors": {
    "hover_highlight": "#DAA520",
    "running_highlight": "#FF0000",
    "selected_highlight": "#FFD700"
   },
   "moveMenuLeft": true,
   "nav_menu": {
    "height": "48px",
    "width": "252px"
   },
   "navigate_menu": true,
   "number_sections": false,
   "sideBar": true,
   "threshold": 4,
   "toc_cell": false,
   "toc_section_display": "block",
   "toc_window_display": true
  }
 },
 "nbformat": 4,
 "nbformat_minor": 1
}
