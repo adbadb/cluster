{
 "cells": [
  {
   "cell_type": "markdown",
   "metadata": {},
   "source": [
    "# Init"
   ]
  },
  {
   "cell_type": "code",
   "execution_count": 52,
   "metadata": {},
   "outputs": [],
   "source": [
    "import glob\n",
    "import datetime as dt\n",
    "import pytz\n",
    "from tensorflow.python.summary import summary_iterator\n",
    "def get_events(run, x_axis='step'):\n",
    "  \"\"\"Returns event dictionary for given run, has form\n",
    "  {tag1: {step1: val1}, tag2: ..}\n",
    "\n",
    "  If x_axis is set to \"time\", step is replaced by timestamp\n",
    "  \"\"\"\n",
    "  result = {}\n",
    "  for fname in glob.glob(f'/efs/runs/{run}/events*'):\n",
    "    print(\"Parsing \"+fname)\n",
    "    events = summary_iterator.summary_iterator(fname)\n",
    "\n",
    "    for event in events:\n",
    "      if x_axis == 'step':\n",
    "        x_val = event.step\n",
    "      elif x_axis == 'time':\n",
    "        x_val = event.wall_time\n",
    "      else:\n",
    "        assert False, f\"Unknown x_axis ({x_axis})\"\n",
    "        \n",
    "      vals = {val.tag: val.simple_value for val in event.summary.value}\n",
    "      # step_time: value\n",
    "      for tag in vals:\n",
    "        event_dict = result.setdefault(tag, {})\n",
    "        if x_val in event_dict:\n",
    "          print(f\"Warning, overwriting {tag} for {x_axis}={x_val}\")\n",
    "          print(f\"old val={event_dict[x_val]}\")\n",
    "          print(f\"new val={vals[tag]}\")\n",
    "\n",
    "        event_dict[x_val] = vals[tag]\n",
    "        \n",
    "  return result\n",
    "\n",
    "def datetime_from_seconds(seconds, timezone=\"US/Pacific\"):\n",
    "  \"\"\"\n",
    "  timezone: pytz timezone name to use for conversion, ie, UTC or US/Pacific\n",
    "  \"\"\"\n",
    "  return dt.datetime.fromtimestamp(seconds, pytz.timezone(timezone))"
   ]
  },
  {
   "cell_type": "markdown",
   "metadata": {},
   "source": [
    "# logdir queries"
   ]
  },
  {
   "cell_type": "markdown",
   "metadata": {},
   "source": [
    "## List runs"
   ]
  },
  {
   "cell_type": "code",
   "execution_count": 38,
   "metadata": {},
   "outputs": [
    {
     "name": "stdout",
     "output_type": "stream",
     "text": [
      "another-test\t\t\t    num-tasks-test.2018-07-29_17-44-54\r\n",
      "deleteme\t\t\t    one-machines128-or\r\n",
      "deleteme.2018-07-29_14-40-01\t    one-machines192-or\r\n",
      "deleteme.2018-07-29_15-00-07\t    one-machines-ar\r\n",
      "deleteme.2018-07-29_16-24-50\t    one-machines-ar.2018-07-30_17-41-50\r\n",
      "deleteme.2018-07-29_16-27-48\t    pytorch-one-machines-ar\r\n",
      "deleteme.2018-07-29_16-31-01\t    pytorch-one-machines-ar.2018-07-30_19-04-34\r\n",
      "deleteme.2018-07-29_16-33-26\t    pytorch-one-machines-ar.2018-07-30_19-05-49\r\n",
      "deleteme.2018-07-29_16-37-40\t    pytorch-one-machines-ar.2018-07-30_19-06-19\r\n",
      "deleteme.2018-07-29_17-05-00\t    pytorch-one-machines-ar.2018-07-30_19-07-31\r\n",
      "deleteme.2018-07-29_17-13-11\t    pytorch-two-machines-ar\r\n",
      "four-machines-or\t\t    temp-image-rate-test\r\n",
      "nccl-eight-machines-ar\t\t    temp-image-rate-test.2018-07-30_11-00-42\r\n",
      "nccl-two-machines-ar\t\t    temp-stop-test\r\n",
      "num-tasks-test\t\t\t    two-machines-or\r\n",
      "num-tasks-test.2018-07-29_17-32-22  two-machines-or.2018-07-30_18-31-20\r\n"
     ]
    }
   ],
   "source": [
    "!ls /efs/runs"
   ]
  },
  {
   "cell_type": "markdown",
   "metadata": {},
   "source": [
    "## Get events by time"
   ]
  },
  {
   "cell_type": "code",
   "execution_count": 59,
   "metadata": {},
   "outputs": [
    {
     "data": {
      "text/plain": [
       "dict_keys(['image_size', 'batch_size', 'lr', 'time/step_ms', 'time/data_ms', 'loss/loss', 'loss/train_1', 'loss/train_5', 'time/1gpu_images_per_sec', 'net/recv_bw', 'net/transmit_bw', 'loss/test_1', 'loss/test_5', 'time/eval_sec', 'epoch'])"
      ]
     },
     "execution_count": 59,
     "metadata": {},
     "output_type": "execute_result"
    }
   ],
   "source": [
    "events_dict.keys()"
   ]
  },
  {
   "cell_type": "code",
   "execution_count": 75,
   "metadata": {},
   "outputs": [
    {
     "name": "stdout",
     "output_type": "stream",
     "text": [
      "Parsing /efs/runs/two-machine-test/events.out.tfevents.1533078385.ip-192-168-40-229\n",
      "2018-07-31_16-07-29 128.0\n"
     ]
    }
   ],
   "source": [
    "#events_dict=get_events('deleteme.2018-07-29_15-00-07', 'time')\n",
    "events_dict=get_events('two-machine-test', 'time')\n",
    "events = events_dict['image_size']\n",
    "for key in events:\n",
    "  print(datetime_from_seconds(key).strftime(\"%Y-%m-%d_%H-%M-%S\"), events[key])"
   ]
  },
  {
   "cell_type": "markdown",
   "metadata": {},
   "source": [
    "## Get events by step"
   ]
  },
  {
   "cell_type": "code",
   "execution_count": 50,
   "metadata": {},
   "outputs": [
    {
     "name": "stdout",
     "output_type": "stream",
     "text": [
      "Parsing /efs/runs/nccl-eight-machines-ar/events.out.tfevents.1533052716.ip-192-168-35-231\n"
     ]
    },
    {
     "data": {
      "text/plain": [
       "[<matplotlib.lines.Line2D at 0x7fb42fdd1ef0>]"
      ]
     },
     "execution_count": 50,
     "metadata": {},
     "output_type": "execute_result"
    },
    {
     "data": {
      "image/png": "[encoded data removed]",
      "text/plain": [
       "<Figure size 432x288 with 1 Axes>"
      ]
     },
     "metadata": {},
     "output_type": "display_data"
    }
   ],
   "source": [
    "%matplotlib inline\n",
    "import matplotlib.pyplot as plt\n",
    "events_dict=get_events('nccl-eight-machines-ar')\n",
    "events = events_dict['loss/loss']\n",
    "plt.ylabel('loss')\n",
    "plt.xlabel('step')\n",
    "plt.title(\"training loss\")\n",
    "plt.plot(events.values())"
   ]
  },
  {
   "cell_type": "markdown",
   "metadata": {},
   "source": [
    "## Get combined cost of evals"
   ]
  },
  {
   "cell_type": "code",
   "execution_count": 60,
   "metadata": {},
   "outputs": [
    {
     "name": "stdout",
     "output_type": "stream",
     "text": [
      "Parsing /efs/runs/nccl-eight-machines-ar/events.out.tfevents.1533052716.ip-192-168-35-231\n",
      "80.45876622200012 seconds\n"
     ]
    }
   ],
   "source": [
    "run = 'nccl-eight-machines-ar'\n",
    "events_dict=get_events(run)\n",
    "print(f\"{sum(events_dict['time/eval_sec'].values())} seconds\")"
   ]
  },
  {
   "cell_type": "markdown",
   "metadata": {},
   "source": [
    "# Housekeeping"
   ]
  },
  {
   "cell_type": "markdown",
   "metadata": {},
   "source": [
    "## Clean-up logdirs"
   ]
  },
  {
   "cell_type": "code",
   "execution_count": 78,
   "metadata": {},
   "outputs": [
    {
     "name": "stdout",
     "output_type": "stream",
     "text": [
      "1624400\t one-machines128-or\n",
      "25\t ncclrev-eight-machines-ar\n",
      "1708527\t pytorch-one-machines-ar.2018-07-30_19-07-31\n",
      "956307\t nccl-two-machines-ar\n",
      "303003\t ncclrev2-eight-machines-ar\n",
      "25\t two-machines-or.2018-07-30_18-31-20\n",
      "1155082\t one-machines192-or\n",
      "956307\t pytorch-two-machines-ar\n",
      "956307\t two-machines-or\n",
      "20592\t pytorch-one-machines-ar\n",
      "25\t pytorch-one-machines-ar.2018-07-30_19-06-19\n",
      "302978\t nccl-eight-machines-ar\n",
      "25\t one-machines-ar\n",
      "416052\t four-machines-or\n",
      "1708527\t one-machines-ar.2018-07-30_17-41-50\n"
     ]
    }
   ],
   "source": [
    "import os\n",
    "def get_directory_size(start_path = '.'):\n",
    "    total_size = 0\n",
    "    for dirpath, dirnames, filenames in os.walk(start_path):\n",
    "        for f in filenames:\n",
    "            fp = os.path.join(dirpath, f)\n",
    "            total_size += os.path.getsize(fp)\n",
    "    return total_size\n",
    "\n",
    "for d in os.listdir('/efs/runs'):\n",
    "  print(f\"{get_directory_size(f'/efs/runs/{d}')}\\t {d}\")"
   ]
  },
  {
   "cell_type": "code",
   "execution_count": 77,
   "metadata": {},
   "outputs": [
    {
     "name": "stdout",
     "output_type": "stream",
     "text": [
      "1624400\t one-machines128-or\n",
      "25\t ncclrev-eight-machines-ar\n",
      "Moving /efs/runs/deleteme.2018-07-29_15-00-07 to /efs/runs.old/deleteme.2018-07-29_15-00-07\n",
      "0\t deleteme.2018-07-29_15-00-07\n",
      "Moving /efs/runs/deleteme.2018-07-29_17-05-00 to /efs/runs.old/deleteme.2018-07-29_17-05-00\n",
      "0\t deleteme.2018-07-29_17-05-00\n",
      "Moving /efs/runs/num-tasks-test to /efs/runs.old/num-tasks-test\n",
      "0\t num-tasks-test\n",
      "1708527\t pytorch-one-machines-ar.2018-07-30_19-07-31\n",
      "Moving /efs/runs/pytorch-one-machines-ar.2018-07-30_19-04-34 to /efs/runs.old/pytorch-one-machines-ar.2018-07-30_19-04-34\n",
      "0\t pytorch-one-machines-ar.2018-07-30_19-04-34\n",
      "Moving /efs/runs/deleteme.2018-07-29_16-37-40 to /efs/runs.old/deleteme.2018-07-29_16-37-40\n",
      "0\t deleteme.2018-07-29_16-37-40\n",
      "Moving /efs/runs/deleteme.2018-07-29_16-33-26 to /efs/runs.old/deleteme.2018-07-29_16-33-26\n",
      "0\t deleteme.2018-07-29_16-33-26\n",
      "956307\t nccl-two-machines-ar\n",
      "Moving /efs/runs/temp-image-rate-test to /efs/runs.old/temp-image-rate-test\n",
      "0\t temp-image-rate-test\n",
      "303003\t ncclrev2-eight-machines-ar\n",
      "25\t two-machines-or.2018-07-30_18-31-20\n",
      "Moving /efs/runs/tmux-history-test to /efs/runs.old/tmux-history-test\n",
      "0\t tmux-history-test\n",
      "Moving /efs/runs/temp-image-rate-test.2018-07-30_11-00-42 to /efs/runs.old/temp-image-rate-test.2018-07-30_11-00-42\n",
      "0\t temp-image-rate-test.2018-07-30_11-00-42\n",
      "Moving /efs/runs/temp-stop-test to /efs/runs.old/temp-stop-test\n",
      "0\t temp-stop-test\n",
      "Moving /efs/runs/another-test to /efs/runs.old/another-test\n",
      "0\t another-test\n",
      "Moving /efs/runs/deleteme.2018-07-29_17-13-11 to /efs/runs.old/deleteme.2018-07-29_17-13-11\n",
      "0\t deleteme.2018-07-29_17-13-11\n",
      "1155082\t one-machines192-or\n",
      "Moving /efs/runs/two-machine-test to /efs/runs.old/two-machine-test\n",
      "0\t two-machine-test\n",
      "Moving /efs/runs/new-test-run to /efs/runs.old/new-test-run\n",
      "0\t new-test-run\n",
      "Moving /efs/runs/tmux-history-test.2018-07-31_15-27-50 to /efs/runs.old/tmux-history-test.2018-07-31_15-27-50\n",
      "0\t tmux-history-test.2018-07-31_15-27-50\n",
      "Moving /efs/runs/deleteme.2018-07-29_16-24-50 to /efs/runs.old/deleteme.2018-07-29_16-24-50\n",
      "0\t deleteme.2018-07-29_16-24-50\n",
      "Moving /efs/runs/deleteme to /efs/runs.old/deleteme\n",
      "0\t deleteme\n",
      "956307\t pytorch-two-machines-ar\n",
      "956307\t two-machines-or\n",
      "20592\t pytorch-one-machines-ar\n",
      "25\t pytorch-one-machines-ar.2018-07-30_19-06-19\n",
      "Moving /efs/runs/deleteme.2018-07-29_14-40-01 to /efs/runs.old/deleteme.2018-07-29_14-40-01\n",
      "0\t deleteme.2018-07-29_14-40-01\n",
      "302978\t nccl-eight-machines-ar\n",
      "Moving /efs/runs/test-log-examples to /efs/runs.old/test-log-examples\n",
      "0\t test-log-examples\n",
      "Moving /efs/runs/num-tasks-test.2018-07-29_17-44-54 to /efs/runs.old/num-tasks-test.2018-07-29_17-44-54\n",
      "0\t num-tasks-test.2018-07-29_17-44-54\n",
      "25\t one-machines-ar\n",
      "Moving /efs/runs/tmux-history-test.2018-07-31_15-33-37 to /efs/runs.old/tmux-history-test.2018-07-31_15-33-37\n",
      "0\t tmux-history-test.2018-07-31_15-33-37\n",
      "416052\t four-machines-or\n",
      "1708527\t one-machines-ar.2018-07-30_17-41-50\n",
      "Moving /efs/runs/deleteme.2018-07-29_16-31-01 to /efs/runs.old/deleteme.2018-07-29_16-31-01\n",
      "0\t deleteme.2018-07-29_16-31-01\n",
      "Moving /efs/runs/pytorch-one-machines-ar.2018-07-30_19-05-49 to /efs/runs.old/pytorch-one-machines-ar.2018-07-30_19-05-49\n",
      "0\t pytorch-one-machines-ar.2018-07-30_19-05-49\n",
      "Moving /efs/runs/deleteme.2018-07-29_16-27-48 to /efs/runs.old/deleteme.2018-07-29_16-27-48\n",
      "0\t deleteme.2018-07-29_16-27-48\n",
      "Moving /efs/runs/num-tasks-test.2018-07-29_17-32-22 to /efs/runs.old/num-tasks-test.2018-07-29_17-32-22\n",
      "0\t num-tasks-test.2018-07-29_17-32-22\n"
     ]
    }
   ],
   "source": [
    "for d in os.listdir('/efs/runs'):\n",
    "  logdir = f'/efs/runs/{d}'\n",
    "  moved_logdir = f'/efs/runs.old/{d}'\n",
    "  if get_directory_size(logdir) < 25 or 'test' in logdir or 'deleteme' in logdir:\n",
    "    print(f\"Moving {logdir} to {moved_logdir}\")\n",
    "    os.system(f'mv {logdir} {moved_logdir}')\n",
    "  print(f\"{get_directory_size(f'/efs/runs/{d}')}\\t {d}\")\n",
    "\n"
   ]
  },
  {
   "cell_type": "markdown",
   "metadata": {},
   "source": [
    "# Scratch"
   ]
  },
  {
   "cell_type": "code",
   "execution_count": 63,
   "metadata": {},
   "outputs": [
    {
     "name": "stdout",
     "output_type": "stream",
     "text": [
      "another-test\t\t\t    one-machines128-or\r\n",
      "deleteme\t\t\t    one-machines192-or\r\n",
      "deleteme.2018-07-29_14-40-01\t    one-machines-ar\r\n",
      "deleteme.2018-07-29_15-00-07\t    one-machines-ar.2018-07-30_17-41-50\r\n",
      "deleteme.2018-07-29_16-24-50\t    pytorch-one-machines-ar\r\n",
      "deleteme.2018-07-29_16-27-48\t    pytorch-one-machines-ar.2018-07-30_19-04-34\r\n",
      "deleteme.2018-07-29_16-31-01\t    pytorch-one-machines-ar.2018-07-30_19-05-49\r\n",
      "deleteme.2018-07-29_16-33-26\t    pytorch-one-machines-ar.2018-07-30_19-06-19\r\n",
      "deleteme.2018-07-29_16-37-40\t    pytorch-one-machines-ar.2018-07-30_19-07-31\r\n",
      "deleteme.2018-07-29_17-05-00\t    pytorch-two-machines-ar\r\n",
      "deleteme.2018-07-29_17-13-11\t    temp-image-rate-test\r\n",
      "four-machines-or\t\t    temp-image-rate-test.2018-07-30_11-00-42\r\n",
      "nccl-eight-machines-ar\t\t    temp-stop-test\r\n",
      "ncclrev2-eight-machines-ar\t    tmux-history-test\r\n",
      "ncclrev-eight-machines-ar\t    tmux-history-test.2018-07-31_15-27-50\r\n",
      "nccl-two-machines-ar\t\t    tmux-history-test.2018-07-31_15-33-37\r\n",
      "new-test-run\t\t\t    two-machines-or\r\n",
      "num-tasks-test\t\t\t    two-machines-or.2018-07-30_18-31-20\r\n",
      "num-tasks-test.2018-07-29_17-32-22  two-machine-test\r\n",
      "num-tasks-test.2018-07-29_17-44-54\r\n"
     ]
    }
   ],
   "source": [
    "!ls /efs/runs"
   ]
  },
  {
   "cell_type": "code",
   "execution_count": 65,
   "metadata": {},
   "outputs": [],
   "source": []
  },
  {
   "cell_type": "code",
   "execution_count": 72,
   "metadata": {},
   "outputs": [
    {
     "name": "stdout",
     "output_type": "stream",
     "text": [
      "1624400\t one-machines128-or\n",
      "25\t ncclrev-eight-machines-ar\n",
      "757926\t deleteme.2018-07-29_15-00-07\n",
      "0\t deleteme.2018-07-29_17-05-00\n",
      "0\t num-tasks-test\n",
      "1708527\t pytorch-one-machines-ar.2018-07-30_19-07-31\n",
      "0\t pytorch-one-machines-ar.2018-07-30_19-04-34\n",
      "421442\t deleteme.2018-07-29_16-37-40\n",
      "57830\t deleteme.2018-07-29_16-33-26\n",
      "956307\t nccl-two-machines-ar\n",
      "0\t temp-image-rate-test\n",
      "303003\t ncclrev2-eight-machines-ar\n",
      "25\t two-machines-or.2018-07-30_18-31-20\n",
      "0\t tmux-history-test\n",
      "677638\t temp-image-rate-test.2018-07-30_11-00-42\n",
      "134207\t temp-stop-test\n",
      "1708471\t another-test\n",
      "1708471\t deleteme.2018-07-29_17-13-11\n",
      "1155082\t one-machines192-or\n",
      "157\t two-machine-test\n",
      "1566184\t new-test-run\n",
      "0\t tmux-history-test.2018-07-31_15-27-50\n",
      "466\t deleteme.2018-07-29_16-24-50\n",
      "1357948\t deleteme\n",
      "956307\t pytorch-two-machines-ar\n",
      "956307\t two-machines-or\n",
      "20592\t pytorch-one-machines-ar\n",
      "25\t pytorch-one-machines-ar.2018-07-30_19-06-19\n",
      "102634\t deleteme.2018-07-29_14-40-01\n",
      "302978\t nccl-eight-machines-ar\n",
      "98865\t test-log-examples\n",
      "375197\t num-tasks-test.2018-07-29_17-44-54\n",
      "25\t one-machines-ar\n",
      "146974\t tmux-history-test.2018-07-31_15-33-37\n",
      "416052\t four-machines-or\n",
      "1708527\t one-machines-ar.2018-07-30_17-41-50\n",
      "13315\t deleteme.2018-07-29_16-31-01\n",
      "0\t pytorch-one-machines-ar.2018-07-30_19-05-49\n",
      "20560\t deleteme.2018-07-29_16-27-48\n",
      "0\t num-tasks-test.2018-07-29_17-32-22\n"
     ]
    }
   ],
   "source": []
  },
  {
   "cell_type": "code",
   "execution_count": 17,
   "metadata": {},
   "outputs": [
    {
     "data": {
      "text/plain": [
       "'Inter-|   Receive                                                |  Transmit'"
      ]
     },
     "execution_count": 17,
     "metadata": {},
     "output_type": "execute_result"
    }
   ],
   "source": [
    "lines[0]"
   ]
  },
  {
   "cell_type": "code",
   "execution_count": 18,
   "metadata": {},
   "outputs": [
    {
     "data": {
      "text/plain": [
       "' face |bytes    packets errs drop fifo frame compressed multicast|bytes    packets errs drop fifo colls carrier compressed'"
      ]
     },
     "execution_count": 18,
     "metadata": {},
     "output_type": "execute_result"
    }
   ],
   "source": [
    "lines[1]"
   ]
  },
  {
   "cell_type": "code",
   "execution_count": 19,
   "metadata": {},
   "outputs": [
    {
     "data": {
      "text/plain": [
       "'    lo: 4622682   19758    0    0    0     0          0         0  4622682   19758    0    0    0     0       0          0'"
      ]
     },
     "execution_count": 19,
     "metadata": {},
     "output_type": "execute_result"
    }
   ],
   "source": [
    "lines[2]"
   ]
  },
  {
   "cell_type": "code",
   "execution_count": 20,
   "metadata": {},
   "outputs": [
    {
     "data": {
      "text/plain": [
       "'  ens5: 409309874 1084540    0    0    0     0          0         0 577986838 1159118    0    0    0     0       0          0'"
      ]
     },
     "execution_count": 20,
     "metadata": {},
     "output_type": "execute_result"
    }
   ],
   "source": [
    "lines[3]"
   ]
  },
  {
   "cell_type": "code",
   "execution_count": 32,
   "metadata": {},
   "outputs": [
    {
     "ename": "ValueError",
     "evalue": "invalid literal for int() with base 10: 'Receive'",
     "output_type": "error",
     "traceback": [
      "\u001b[0;31m---------------------------------------------------------------------------\u001b[0m",
      "\u001b[0;31mValueError\u001b[0m                                Traceback (most recent call last)",
      "\u001b[0;32m<ipython-input-32-72c3c2a56215>\u001b[0m in \u001b[0;36m<module>\u001b[0;34m()\u001b[0m\n\u001b[1;32m      8\u001b[0m   \u001b[0mtoks\u001b[0m \u001b[0;34m=\u001b[0m \u001b[0mline\u001b[0m\u001b[0;34m.\u001b[0m\u001b[0msplit\u001b[0m\u001b[0;34m(\u001b[0m\u001b[0;34m)\u001b[0m\u001b[0;34m\u001b[0m\u001b[0m\n\u001b[1;32m      9\u001b[0m \u001b[0;34m\u001b[0m\u001b[0m\n\u001b[0;32m---> 10\u001b[0;31m   \u001b[0mrecv_bytes\u001b[0m \u001b[0;34m+=\u001b[0m \u001b[0mint\u001b[0m\u001b[0;34m(\u001b[0m\u001b[0mtoks\u001b[0m\u001b[0;34m[\u001b[0m\u001b[0;36m1\u001b[0m\u001b[0;34m]\u001b[0m\u001b[0;34m)\u001b[0m\u001b[0;34m\u001b[0m\u001b[0m\n\u001b[0m\u001b[1;32m     11\u001b[0m   \u001b[0mtransmit_bytes\u001b[0m \u001b[0;34m+=\u001b[0m \u001b[0mint\u001b[0m\u001b[0;34m(\u001b[0m\u001b[0mtoks\u001b[0m\u001b[0;34m[\u001b[0m\u001b[0;36m9\u001b[0m\u001b[0;34m]\u001b[0m\u001b[0;34m)\u001b[0m\u001b[0;34m\u001b[0m\u001b[0m\n",
      "\u001b[0;31mValueError\u001b[0m: invalid literal for int() with base 10: 'Receive'"
     ]
    }
   ],
   "source": [
    "# Get in/out bytes from /proc/net/dev\n",
    "def network_bytes():\n",
    "import subprocess\n",
    "proc = subprocess.Popen(['cat', '/proc/net/dev'], stdout=subprocess.PIPE)\n",
    "stdout,stderr = proc.communicate()\n",
    "stdout=stdout.decode('ascii')\n",
    "\n",
    "recv_bytes = 0\n",
    "transmit_bytes = 0\n",
    "lines=stdout.strip().split('\\n')\n",
    "lines = lines[2:]  # strip header\n",
    "for line in lines[2:]:\n",
    "  line = line.strip()\n",
    "  # ignore loopback interface\n",
    "  if line.startswith('lo'):\n",
    "    continue\n",
    "  toks = line.split()\n",
    "\n",
    "  recv_bytes += int(toks[1])\n",
    "  transmit_bytes += int(toks[9])"
   ]
  },
  {
   "cell_type": "code",
   "execution_count": 37,
   "metadata": {},
   "outputs": [
    {
     "data": {
      "text/plain": [
       "' face |bytes    packets errs drop fifo frame compressed multicast|bytes    packets errs drop fifo colls carrier compressed'"
      ]
     },
     "execution_count": 37,
     "metadata": {},
     "output_type": "execute_result"
    }
   ],
   "source": [
    "lines[1]"
   ]
  },
  {
   "cell_type": "code",
   "execution_count": 26,
   "metadata": {},
   "outputs": [
    {
     "data": {
      "text/plain": [
       "577986838"
      ]
     },
     "execution_count": 26,
     "metadata": {},
     "output_type": "execute_result"
    }
   ],
   "source": [
    "int(toks[9])"
   ]
  },
  {
   "cell_type": "code",
   "execution_count": 27,
   "metadata": {},
   "outputs": [
    {
     "data": {
      "text/plain": [
       "'ens5:'"
      ]
     },
     "execution_count": 27,
     "metadata": {},
     "output_type": "execute_result"
    }
   ],
   "source": [
    "toks[0]"
   ]
  },
  {
   "cell_type": "code",
   "execution_count": 29,
   "metadata": {},
   "outputs": [],
   "source": []
  },
  {
   "cell_type": "code",
   "execution_count": 30,
   "metadata": {},
   "outputs": [
    {
     "data": {
      "text/plain": [
       "409309874"
      ]
     },
     "execution_count": 30,
     "metadata": {},
     "output_type": "execute_result"
    }
   ],
   "source": [
    "recv_bytes"
   ]
  },
  {
   "cell_type": "code",
   "execution_count": 31,
   "metadata": {},
   "outputs": [
    {
     "data": {
      "text/plain": [
       "577986838"
      ]
     },
     "execution_count": 31,
     "metadata": {},
     "output_type": "execute_result"
    }
   ],
   "source": [
    "transmit_bytes"
   ]
  },
  {
   "cell_type": "code",
   "execution_count": null,
   "metadata": {},
   "outputs": [],
   "source": []
  }
 ],
 "metadata": {
  "kernelspec": {
   "display_name": "Python [conda env:tensorflow_p36]",
   "language": "python",
   "name": "conda-env-tensorflow_p36-py"
  },
  "language_info": {
   "codemirror_mode": {
    "name": "ipython",
    "version": 3
   },
   "file_extension": ".py",
   "mimetype": "text/x-python",
   "name": "python",
   "nbconvert_exporter": "python",
   "pygments_lexer": "ipython3",
   "version": "3.6.6"
  },
  "toc": {
   "base_numbering": 1,
   "nav_menu": {},
   "number_sections": true,
   "sideBar": true,
   "skip_h1_title": false,
   "title_cell": "Table of Contents",
   "title_sidebar": "Contents",
   "toc_cell": false,
   "toc_position": {},
   "toc_section_display": true,
   "toc_window_display": true
  }
 },
 "nbformat": 4,
 "nbformat_minor": 2
}
