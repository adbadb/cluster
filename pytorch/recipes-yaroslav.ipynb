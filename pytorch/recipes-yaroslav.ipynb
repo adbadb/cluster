{
 "cells": [
  {
   "cell_type": "markdown",
   "metadata": {},
   "source": [
    "# Init"
   ]
  },
  {
   "cell_type": "code",
   "execution_count": 2,
   "metadata": {},
   "outputs": [
    {
     "name": "stderr",
     "output_type": "stream",
     "text": [
      "/home/ubuntu/anaconda3/envs/tensorflow_p36/lib/python3.6/site-packages/h5py/__init__.py:36: FutureWarning: Conversion of the second argument of issubdtype from `float` to `np.floating` is deprecated. In future, it will be treated as `np.float64 == np.dtype(float).type`.\n",
      "  from ._conv import register_converters as _register_converters\n"
     ]
    }
   ],
   "source": [
    "import glob\n",
    "from tensorflow.python.summary import summary_iterator\n",
    "def get_events(run, x_axis='step'):\n",
    "  \"\"\"Returns event dictionary for given run, has form\n",
    "  {tag1: {step1: val1}, tag2: ..}\n",
    "\n",
    "  If x_axis is set to \"time\", step is replaced by timestamp\n",
    "  \"\"\"\n",
    "  result = {}\n",
    "  for fname in glob.glob(f'/efs/runs/{run}/events*'):\n",
    "    print(\"Parsing \"+fname)\n",
    "    events = summary_iterator.summary_iterator(fname)\n",
    "\n",
    "    for event in events:\n",
    "      if x_axis == 'step':\n",
    "        x_val = event.step\n",
    "      elif x_axis == 'time':\n",
    "        x_val = event.wall_time\n",
    "      else:\n",
    "        assert False, f\"Unknown x_axis ({x_axis})\"\n",
    "        \n",
    "      vals = {val.tag: val.simple_value for val in event.summary.value}\n",
    "      # step_time: value\n",
    "      for tag in vals:\n",
    "        event_dict = result.setdefault(tag, {})\n",
    "        if x_val in event_dict:\n",
    "          print(f\"Warning, overwriting {tag} for {x_axis}={x_val}\")\n",
    "          print(f\"old val={event_dict[x_val]}\")\n",
    "          print(f\"new val={vals[tag]}\")\n",
    "\n",
    "        event_dict[x_val] = vals[tag]\n",
    "        \n",
    "  return result\n",
    "\n",
    "def datetime_from_seconds(seconds, timezone=\"US/Pacific\"):\n",
    "  \"\"\"\n",
    "  timezone: pytz timezone name to use for conversion, ie, UTC or US/Pacific\n",
    "  \"\"\"\n",
    "  return dt.datetime.fromtimestamp(seconds, pytz.timezone(timezone))"
   ]
  },
  {
   "cell_type": "markdown",
   "metadata": {},
   "source": [
    "# logdir queries"
   ]
  },
  {
   "cell_type": "markdown",
   "metadata": {},
   "source": [
    "## List runs"
   ]
  },
  {
   "cell_type": "code",
   "execution_count": 89,
   "metadata": {},
   "outputs": [
    {
     "name": "stdout",
     "output_type": "stream",
     "text": [
      "deleteme  deleteme.2018-07-29_14-40-01\tdeleteme.2018-07-29_15-00-07\r\n"
     ]
    }
   ],
   "source": [
    "!ls /efs/runs"
   ]
  },
  {
   "cell_type": "markdown",
   "metadata": {},
   "source": [
    "## Get events by time"
   ]
  },
  {
   "cell_type": "code",
   "execution_count": 80,
   "metadata": {},
   "outputs": [
    {
     "name": "stdout",
     "output_type": "stream",
     "text": [
      "Parsing /efs/runs/deleteme/events.out.tfevents.1532887564.ip-192-168-46-182\n",
      "2018-07-29_11-06-15 128.0\n",
      "2018-07-29_11-06-29 224.0\n",
      "2018-07-29_11-06-44 288.0\n"
     ]
    }
   ],
   "source": [
    "#events_dict=get_events('deleteme.2018-07-29_15-00-07', 'time')\n",
    "events_dict=get_events('deleteme', 'time')\n",
    "events = events_dict['image_size']\n",
    "for key in events:\n",
    "  print(datetime_from_seconds(key).strftime(\"%Y-%m-%d_%H-%M-%S\"), events[key])"
   ]
  },
  {
   "cell_type": "markdown",
   "metadata": {},
   "source": [
    "## Get events by step"
   ]
  },
  {
   "cell_type": "code",
   "execution_count": 90,
   "metadata": {},
   "outputs": [
    {
     "name": "stdout",
     "output_type": "stream",
     "text": [
      "Parsing /efs/runs/deleteme/events.out.tfevents.1532887564.ip-192-168-46-182\n",
      "Warning, overwriting image_size for step=0\n",
      "old val=128.0\n",
      "new val=224.0\n",
      "Warning, overwriting batch_size for step=0\n",
      "old val=192.0\n",
      "new val=192.0\n",
      "Warning, overwriting image_size for step=0\n",
      "old val=224.0\n",
      "new val=288.0\n",
      "Warning, overwriting batch_size for step=0\n",
      "old val=192.0\n",
      "new val=128.0\n"
     ]
    },
    {
     "data": {
      "text/plain": [
       "[<matplotlib.lines.Line2D at 0x7f5c80571240>]"
      ]
     },
     "execution_count": 90,
     "metadata": {},
     "output_type": "execute_result"
    },
    {
     "data": {
      "image/png": "[encoded data removed]",
      "text/plain": [
       "<Figure size 432x288 with 1 Axes>"
      ]
     },
     "metadata": {},
     "output_type": "display_data"
    }
   ],
   "source": [
    "%matplotlib inline\n",
    "import matplotlib.pyplot as plt\n",
    "events_dict=get_events('deleteme')\n",
    "events = events_dict['loss/loss']\n",
    "plt.ylabel('loss')\n",
    "plt.xlabel('step')\n",
    "plt.title(\"training loss\")\n",
    "plt.plot(events.values())"
   ]
  },
  {
   "cell_type": "markdown",
   "metadata": {},
   "source": [
    "## Get combined cost of evals"
   ]
  },
  {
   "cell_type": "code",
   "execution_count": 3,
   "metadata": {},
   "outputs": [
    {
     "name": "stdout",
     "output_type": "stream",
     "text": [
      "Parsing /efs/runs/deleteme/events.out.tfevents.1532887564.ip-192-168-46-182\n",
      "Warning, overwriting image_size for step=0\n",
      "old val=128.0\n",
      "new val=224.0\n",
      "Warning, overwriting batch_size for step=0\n",
      "old val=192.0\n",
      "new val=192.0\n",
      "Warning, overwriting image_size for step=0\n",
      "old val=224.0\n",
      "new val=288.0\n",
      "Warning, overwriting batch_size for step=0\n",
      "old val=192.0\n",
      "new val=128.0\n",
      "186.54029941558838 seconds\n"
     ]
    }
   ],
   "source": [
    "run = 'deleteme'\n",
    "events_dict=get_events(run)\n",
    "print(f\"{sum(events_dict['time/eval_sec'].values())} seconds\")"
   ]
  },
  {
   "cell_type": "code",
   "execution_count": null,
   "metadata": {},
   "outputs": [],
   "source": []
  }
 ],
 "metadata": {
  "kernelspec": {
   "display_name": "Python [conda env:tensorflow_p36]",
   "language": "python",
   "name": "conda-env-tensorflow_p36-py"
  },
  "language_info": {
   "codemirror_mode": {
    "name": "ipython",
    "version": 3
   },
   "file_extension": ".py",
   "mimetype": "text/x-python",
   "name": "python",
   "nbconvert_exporter": "python",
   "pygments_lexer": "ipython3",
   "version": "3.6.6"
  },
  "toc": {
   "base_numbering": 1,
   "nav_menu": {},
   "number_sections": true,
   "sideBar": true,
   "skip_h1_title": false,
   "title_cell": "Table of Contents",
   "title_sidebar": "Contents",
   "toc_cell": false,
   "toc_position": {},
   "toc_section_display": true,
   "toc_window_display": true
  }
 },
 "nbformat": 4,
 "nbformat_minor": 2
}
