{
 "cells": [
  {
   "cell_type": "code",
   "execution_count": 67,
   "metadata": {},
   "outputs": [
    {
     "name": "stdout",
     "output_type": "stream",
     "text": [
      "The autoreload extension is already loaded. To reload it, use:\n",
      "  %reload_ext autoreload\n"
     ]
    }
   ],
   "source": [
    "%load_ext autoreload\n",
    "%autoreload 2"
   ]
  },
  {
   "cell_type": "code",
   "execution_count": 68,
   "metadata": {},
   "outputs": [],
   "source": [
    "import boto3"
   ]
  },
  {
   "cell_type": "code",
   "execution_count": 69,
   "metadata": {},
   "outputs": [],
   "source": [
    "import util as u"
   ]
  },
  {
   "cell_type": "code",
   "execution_count": 70,
   "metadata": {},
   "outputs": [],
   "source": [
    "ec2 = u.create_ec2_resource()"
   ]
  },
  {
   "cell_type": "code",
   "execution_count": 71,
   "metadata": {},
   "outputs": [
    {
     "data": {
      "text/plain": [
       "[ec2.Instance(id='i-0f9e4464d8caed915'),\n",
       " ec2.Instance(id='i-0192f92339cf687dd'),\n",
       " ec2.Instance(id='i-097415dceb63b0a9b'),\n",
       " ec2.Instance(id='i-0dd4f0619f9b9e001'),\n",
       " ec2.Instance(id='i-08a70701022714d40'),\n",
       " ec2.Instance(id='i-0c4bf1dabf2d6165b'),\n",
       " ec2.Instance(id='i-095fa58c74c1a57fb'),\n",
       " ec2.Instance(id='i-0cb94f34da4a68520'),\n",
       " ec2.Instance(id='i-01ed097e3b88723ac'),\n",
       " ec2.Instance(id='i-0eaec4586d5e1614a'),\n",
       " ec2.Instance(id='i-046378c3e65e46300'),\n",
       " ec2.Instance(id='i-040fc6cfd80d016ca'),\n",
       " ec2.Instance(id='i-093c95c0f237c592d'),\n",
       " ec2.Instance(id='i-07ccb5ebf38de8829')]"
      ]
     },
     "execution_count": 71,
     "metadata": {},
     "output_type": "execute_result"
    }
   ],
   "source": [
    "list(ec2.instances.all())"
   ]
  },
  {
   "cell_type": "code",
   "execution_count": 6,
   "metadata": {},
   "outputs": [],
   "source": [
    "# session = boto3.Session(profile_name='diux')\n",
    "\n",
    "# ec2 = session.resource('ec2')\n",
    "# ec2c = session.client('ec2')"
   ]
  },
  {
   "cell_type": "code",
   "execution_count": 72,
   "metadata": {},
   "outputs": [],
   "source": [
    "vpcs = list(ec2.vpcs.all())"
   ]
  },
  {
   "cell_type": "code",
   "execution_count": 73,
   "metadata": {},
   "outputs": [
    {
     "data": {
      "text/plain": [
       "[[{'Key': 'Name', 'Value': '282e747a-pachydermcluster.kubernetes.com'},\n",
       "  {'Key': 'kubernetes.io/cluster/282e747a-pachydermcluster.kubernetes.com',\n",
       "   'Value': 'owned'},\n",
       "  {'Key': 'KubernetesCluster',\n",
       "   'Value': '282e747a-pachydermcluster.kubernetes.com'}],\n",
       " None,\n",
       " [{'Key': 'Name', 'Value': 'nexus'}],\n",
       " [{'Key': 'Name', 'Value': 'brendan'}],\n",
       " [{'Key': 'KubernetesCluster',\n",
       "   'Value': '0726aa4c-pachydermcluster.kubernetes.com'},\n",
       "  {'Key': 'Name', 'Value': '0726aa4c-pachydermcluster.kubernetes.com'},\n",
       "  {'Key': 'kubernetes.io/cluster/0726aa4c-pachydermcluster.kubernetes.com',\n",
       "   'Value': 'owned'}],\n",
       " [{'Key': 'Name', 'Value': 'nexusbrett'}]]"
      ]
     },
     "execution_count": 73,
     "metadata": {},
     "output_type": "execute_result"
    }
   ],
   "source": [
    "[v.tags for v in vpcs]"
   ]
  },
  {
   "cell_type": "code",
   "execution_count": 74,
   "metadata": {},
   "outputs": [
    {
     "data": {
      "text/plain": [
       "[ec2.KeyPairInfo(name='aws_pach_api_service'),\n",
       " ec2.KeyPairInfo(name='aws_pach_api_service_prod'),\n",
       " ec2.KeyPairInfo(name='aws_pach_api_service_stage'),\n",
       " ec2.KeyPairInfo(name='brendan'),\n",
       " ec2.KeyPairInfo(name='nexus'),\n",
       " ec2.KeyPairInfo(name='nexus-andrewshaw'),\n",
       " ec2.KeyPairInfo(name='nexus-oregon'),\n",
       " ec2.KeyPairInfo(name='nexus-ubuntu'),\n",
       " ec2.KeyPairInfo(name='nexus-wyx'),\n",
       " ec2.KeyPairInfo(name='nexus-yaroslav'),\n",
       " ec2.KeyPairInfo(name='nexusbrett-skoonce'),\n",
       " ec2.KeyPairInfo(name='pach_service_stage'),\n",
       " ec2.KeyPairInfo(name='ray-autoscaler'),\n",
       " ec2.KeyPairInfo(name='yaroslav')]"
      ]
     },
     "execution_count": 74,
     "metadata": {},
     "output_type": "execute_result"
    }
   ],
   "source": [
    "kps = list(ec2.key_pairs.all()); kps"
   ]
  },
  {
   "cell_type": "code",
   "execution_count": null,
   "metadata": {},
   "outputs": [],
   "source": []
  },
  {
   "cell_type": "code",
   "execution_count": 10,
   "metadata": {},
   "outputs": [
    {
     "data": {
      "text/plain": [
       "[{'Key': 'Name', 'Value': 'as_nexus'}]"
      ]
     },
     "execution_count": 10,
     "metadata": {},
     "output_type": "execute_result"
    }
   ],
   "source": [
    "as_vpc.tags"
   ]
  },
  {
   "cell_type": "code",
   "execution_count": 27,
   "metadata": {},
   "outputs": [],
   "source": [
    "rt = list(as_vpc.route_tables.all())[0]"
   ]
  },
  {
   "cell_type": "code",
   "execution_count": 32,
   "metadata": {},
   "outputs": [],
   "source": [
    "sg = list(as_vpc.security_groups.all())[0]"
   ]
  },
  {
   "cell_type": "code",
   "execution_count": 35,
   "metadata": {},
   "outputs": [],
   "source": [
    "ig = list(as_vpc.internet_gateways.all())[0]"
   ]
  },
  {
   "cell_type": "code",
   "execution_count": 218,
   "metadata": {},
   "outputs": [
    {
     "data": {
      "text/plain": [
       "[(0,\n",
       "  [{'Key': 'Name', 'Value': '0.cifar10_multi.as_cifar10'}],\n",
       "  'i-095fa58c74c1a57fb',\n",
       "  {'Code': 16, 'Name': 'running'},\n",
       "  'nexus-andrewshaw'),\n",
       " (1,\n",
       "  [{'Key': 'Name', 'Value': '0.pytorch.pytorch_test'}],\n",
       "  'i-00c7d5ff37462ea75',\n",
       "  {'Code': 16, 'Name': 'running'},\n",
       "  'nexus-andrewshaw'),\n",
       " (2,\n",
       "  [{'Key': 'Name', 'Value': '1.cifar10_multi.as_cifar10'}],\n",
       "  'i-04598a236b90553cc',\n",
       "  {'Code': 16, 'Name': 'running'},\n",
       "  'nexus-andrewshaw'),\n",
       " (3,\n",
       "  [{'Key': 'Name', 'Value': '0.pytorch.pytorch_test'}],\n",
       "  'i-0a7ebe29e735d6814',\n",
       "  {'Code': 48, 'Name': 'terminated'},\n",
       "  'nexus-andrewshaw')]"
      ]
     },
     "execution_count": 218,
     "metadata": {},
     "output_type": "execute_result"
    }
   ],
   "source": [
    "instances = list(ec2.instances.all())\n",
    "my_instances = [i for i in instances if i.key_name == 'nexus-andrewshaw']\n",
    "[(idx,i.tags, i.id, i.state, i.key_name) for idx,i in enumerate(my_instances)]"
   ]
  },
  {
   "cell_type": "code",
   "execution_count": 196,
   "metadata": {},
   "outputs": [],
   "source": [
    "# [(idx,i.tags, i.id, i.state, i.key_name) for idx,i in enumerate(instances)]"
   ]
  },
  {
   "cell_type": "code",
   "execution_count": 219,
   "metadata": {},
   "outputs": [],
   "source": [
    "i = my_instances[0]"
   ]
  },
  {
   "cell_type": "code",
   "execution_count": 220,
   "metadata": {},
   "outputs": [
    {
     "data": {
      "text/plain": [
       "'nexus-andrewshaw'"
      ]
     },
     "execution_count": 220,
     "metadata": {},
     "output_type": "execute_result"
    }
   ],
   "source": [
    "i.key_name"
   ]
  },
  {
   "cell_type": "code",
   "execution_count": 221,
   "metadata": {},
   "outputs": [
    {
     "data": {
      "text/plain": [
       "[{'Key': 'Name', 'Value': '0.cifar10_multi.as_cifar10'}]"
      ]
     },
     "execution_count": 221,
     "metadata": {},
     "output_type": "execute_result"
    }
   ],
   "source": [
    "i.tags"
   ]
  },
  {
   "cell_type": "code",
   "execution_count": 223,
   "metadata": {},
   "outputs": [
    {
     "data": {
      "text/plain": [
       "'192.168.14.211'"
      ]
     },
     "execution_count": 223,
     "metadata": {},
     "output_type": "execute_result"
    }
   ],
   "source": [
    "i.private_ip_address"
   ]
  },
  {
   "cell_type": "code",
   "execution_count": 209,
   "metadata": {},
   "outputs": [
    {
     "data": {
      "text/plain": [
       "{'TerminatingInstances': [{'CurrentState': {'Code': 48, 'Name': 'terminated'},\n",
       "   'InstanceId': 'i-0a7ebe29e735d6814',\n",
       "   'PreviousState': {'Code': 80, 'Name': 'stopped'}}],\n",
       " 'ResponseMetadata': {'RequestId': 'bf67d8d7-8631-4854-b0c9-e702aafb3a0d',\n",
       "  'HTTPStatusCode': 200,\n",
       "  'HTTPHeaders': {'content-type': 'text/xml;charset=UTF-8',\n",
       "   'transfer-encoding': 'chunked',\n",
       "   'vary': 'Accept-Encoding',\n",
       "   'date': 'Tue, 26 Jun 2018 21:10:53 GMT',\n",
       "   'server': 'AmazonEC2'},\n",
       "  'RetryAttempts': 0}}"
      ]
     },
     "execution_count": 209,
     "metadata": {},
     "output_type": "execute_result"
    }
   ],
   "source": [
    "i.terminate()"
   ]
  },
  {
   "cell_type": "code",
   "execution_count": 9,
   "metadata": {},
   "outputs": [
    {
     "data": {
      "text/plain": [
       "OrderedDict([('fast-ai', ec2.Vpc(id='vpc-6e6b2a17')),\n",
       "             ('test-vpc', ec2.Vpc(id='vpc-3efcae47')),\n",
       "             ('nexus', ec2.Vpc(id='vpc-938d9fea'))])"
      ]
     },
     "execution_count": 9,
     "metadata": {},
     "output_type": "execute_result"
    }
   ],
   "source": [
    "u.get_vpc_dict()"
   ]
  },
  {
   "cell_type": "code",
   "execution_count": 10,
   "metadata": {},
   "outputs": [],
   "source": [
    "import create_resources"
   ]
  },
  {
   "cell_type": "code",
   "execution_count": 12,
   "metadata": {},
   "outputs": [
    {
     "name": "stdout",
     "output_type": "stream",
     "text": [
      "Creating VPC nexus\n",
      "Creating subnet 192.168.0.0/20 in zone us-west-2a\n",
      "Creating subnet 192.168.16.0/20 in zone us-west-2b\n",
      "Creating subnet 192.168.32.0/20 in zone us-west-2c\n",
      "Creating security group nexus\n"
     ]
    }
   ],
   "source": [
    "vpc,sg = create_resources.network_setup()"
   ]
  },
  {
   "cell_type": "code",
   "execution_count": 46,
   "metadata": {},
   "outputs": [
    {
     "data": {
      "text/plain": [
       "[ec2.Volume(id='vol-09259d55952e8a579'),\n",
       " ec2.Volume(id='vol-00e82c51276d3d123'),\n",
       " ec2.Volume(id='vol-07e4ccc800c4cd1b8'),\n",
       " ec2.Volume(id='vol-05759950ce850a8ee'),\n",
       " ec2.Volume(id='vol-0890b985664e82540'),\n",
       " ec2.Volume(id='vol-057a522cf520fc88f'),\n",
       " ec2.Volume(id='vol-0e6c339bd8a15f54a')]"
      ]
     },
     "execution_count": 46,
     "metadata": {},
     "output_type": "execute_result"
    }
   ],
   "source": [
    "list(ec2.volumes.all())"
   ]
  },
  {
   "cell_type": "code",
   "execution_count": 18,
   "metadata": {},
   "outputs": [],
   "source": [
    "tag_specs = [{\n",
    "    'ResourceType': 'volume',\n",
    "    'Tags': [{\n",
    "        'Key': 'Name',\n",
    "        'Value': 'imagenet_high_perf_2'\n",
    "    }]\n",
    "}]"
   ]
  },
  {
   "cell_type": "code",
   "execution_count": 19,
   "metadata": {},
   "outputs": [
    {
     "data": {
      "text/plain": [
       "[{'ResourceType': 'volume',\n",
       "  'Tags': [{'Key': 'Name', 'Value': 'imagenet_high_perf'}]}]"
      ]
     },
     "execution_count": 19,
     "metadata": {},
     "output_type": "execute_result"
    }
   ],
   "source": [
    "tag_specs"
   ]
  },
  {
   "cell_type": "code",
   "execution_count": 66,
   "metadata": {},
   "outputs": [
    {
     "data": {
      "text/plain": [
       "3200"
      ]
     },
     "execution_count": 66,
     "metadata": {},
     "output_type": "execute_result"
    }
   ],
   "source": [
    "min(800*50, 3200)"
   ]
  },
  {
   "cell_type": "code",
   "execution_count": 20,
   "metadata": {},
   "outputs": [],
   "source": [
    "volume = ec2.create_volume(Size=800, VolumeType='io1', TagSpecifications=tag_specs,\n",
    "                              AvailabilityZone='us-west-2a', Iops=3200)"
   ]
  },
  {
   "cell_type": "code",
   "execution_count": 23,
   "metadata": {},
   "outputs": [
    {
     "data": {
      "text/plain": [
       "{'AttachTime': datetime.datetime(2018, 6, 25, 21, 33, 33, 102000, tzinfo=tzutc()),\n",
       " 'Device': '/dev/xvdf',\n",
       " 'InstanceId': 'i-01ed097e3b88723ac',\n",
       " 'State': 'attaching',\n",
       " 'VolumeId': 'vol-0581817db900cce84',\n",
       " 'ResponseMetadata': {'RequestId': '3d8e0366-1e02-4b72-8d71-ba316e381683',\n",
       "  'HTTPStatusCode': 200,\n",
       "  'HTTPHeaders': {'content-type': 'text/xml;charset=UTF-8',\n",
       "   'transfer-encoding': 'chunked',\n",
       "   'vary': 'Accept-Encoding',\n",
       "   'date': 'Mon, 25 Jun 2018 21:33:32 GMT',\n",
       "   'server': 'AmazonEC2'},\n",
       "  'RetryAttempts': 0}}"
      ]
     },
     "execution_count": 23,
     "metadata": {},
     "output_type": "execute_result"
    }
   ],
   "source": [
    "volume.attach_to_instance(InstanceId='i-01ed097e3b88723ac', Device='/dev/xvdf')"
   ]
  },
  {
   "cell_type": "code",
   "execution_count": 25,
   "metadata": {},
   "outputs": [],
   "source": [
    "volumes = list(ec2.volumes.all())"
   ]
  },
  {
   "cell_type": "code",
   "execution_count": 47,
   "metadata": {},
   "outputs": [
    {
     "data": {
      "text/plain": [
       "'i-01ed097e3b88723ac'"
      ]
     },
     "execution_count": 47,
     "metadata": {},
     "output_type": "execute_result"
    }
   ],
   "source": [
    "i.id"
   ]
  },
  {
   "cell_type": "code",
   "execution_count": 101,
   "metadata": {},
   "outputs": [
    {
     "data": {
      "text/plain": [
       "[None,\n",
       " None,\n",
       " None,\n",
       " [{'Key': 'Name', 'Value': 'processing'}],\n",
       " None,\n",
       " None,\n",
       " None,\n",
       " None,\n",
       " [{'Key': 'Name', 'Value': 'imagenet_high_perf'}],\n",
       " None,\n",
       " None]"
      ]
     },
     "execution_count": 101,
     "metadata": {},
     "output_type": "execute_result"
    }
   ],
   "source": [
    "[v.tags for v in volumes]"
   ]
  },
  {
   "cell_type": "code",
   "execution_count": 214,
   "metadata": {},
   "outputs": [],
   "source": [
    "v = list(ec2.volumes.filter(Filters=[{'Name':'tag:Name', 'Values':['imagenet_high_perf']}]).all())[0]"
   ]
  },
  {
   "cell_type": "code",
   "execution_count": 215,
   "metadata": {},
   "outputs": [
    {
     "data": {
      "text/plain": [
       "'available'"
      ]
     },
     "execution_count": 215,
     "metadata": {},
     "output_type": "execute_result"
    }
   ],
   "source": [
    "v.state"
   ]
  },
  {
   "cell_type": "code",
   "execution_count": 211,
   "metadata": {},
   "outputs": [
    {
     "data": {
      "text/plain": [
       "{'AttachTime': datetime.datetime(2018, 6, 26, 21, 12, 5, 221000, tzinfo=tzutc()),\n",
       " 'Device': '/dev/xvdf',\n",
       " 'InstanceId': 'i-00c7d5ff37462ea75',\n",
       " 'State': 'attaching',\n",
       " 'VolumeId': 'vol-0581817db900cce84',\n",
       " 'ResponseMetadata': {'RequestId': 'fc04792f-11c0-4004-abb2-3fa5a1786fe1',\n",
       "  'HTTPStatusCode': 200,\n",
       "  'HTTPHeaders': {'content-type': 'text/xml;charset=UTF-8',\n",
       "   'transfer-encoding': 'chunked',\n",
       "   'vary': 'Accept-Encoding',\n",
       "   'date': 'Tue, 26 Jun 2018 21:12:04 GMT',\n",
       "   'server': 'AmazonEC2'},\n",
       "  'RetryAttempts': 0}}"
      ]
     },
     "execution_count": 211,
     "metadata": {},
     "output_type": "execute_result"
    }
   ],
   "source": [
    "v.attach_to_instance(InstanceId='i-00c7d5ff37462ea75',  Device='/dev/xvdf')"
   ]
  },
  {
   "cell_type": "code",
   "execution_count": 217,
   "metadata": {},
   "outputs": [
    {
     "data": {
      "text/plain": [
       "[]"
      ]
     },
     "execution_count": 217,
     "metadata": {},
     "output_type": "execute_result"
    }
   ],
   "source": [
    "v.attachments"
   ]
  },
  {
   "cell_type": "code",
   "execution_count": 85,
   "metadata": {},
   "outputs": [
    {
     "ename": "ClientError",
     "evalue": "An error occurred (IncorrectState) when calling the DetachVolume operation: Volume 'vol-0581817db900cce84'is in the 'available' state.",
     "output_type": "error",
     "traceback": [
      "\u001b[0;31m---------------------------------------------------------------------------\u001b[0m",
      "\u001b[0;31mClientError\u001b[0m                               Traceback (most recent call last)",
      "\u001b[0;32m<ipython-input-85-13a8b8668a6e>\u001b[0m in \u001b[0;36m<module>\u001b[0;34m()\u001b[0m\n\u001b[0;32m----> 1\u001b[0;31m \u001b[0mv\u001b[0m\u001b[0;34m.\u001b[0m\u001b[0mdetach_from_instance\u001b[0m\u001b[0;34m(\u001b[0m\u001b[0;34m)\u001b[0m\u001b[0;34m\u001b[0m\u001b[0m\n\u001b[0m",
      "\u001b[0;32m~/miniconda3/envs/gpubox/lib/python3.6/site-packages/boto3/resources/factory.py\u001b[0m in \u001b[0;36mdo_action\u001b[0;34m(self, *args, **kwargs)\u001b[0m\n\u001b[1;32m    518\u001b[0m             \u001b[0;31m# instance via ``self``.\u001b[0m\u001b[0;34m\u001b[0m\u001b[0;34m\u001b[0m\u001b[0m\n\u001b[1;32m    519\u001b[0m             \u001b[0;32mdef\u001b[0m \u001b[0mdo_action\u001b[0m\u001b[0;34m(\u001b[0m\u001b[0mself\u001b[0m\u001b[0;34m,\u001b[0m \u001b[0;34m*\u001b[0m\u001b[0margs\u001b[0m\u001b[0;34m,\u001b[0m \u001b[0;34m**\u001b[0m\u001b[0mkwargs\u001b[0m\u001b[0;34m)\u001b[0m\u001b[0;34m:\u001b[0m\u001b[0;34m\u001b[0m\u001b[0m\n\u001b[0;32m--> 520\u001b[0;31m                 \u001b[0mresponse\u001b[0m \u001b[0;34m=\u001b[0m \u001b[0maction\u001b[0m\u001b[0;34m(\u001b[0m\u001b[0mself\u001b[0m\u001b[0;34m,\u001b[0m \u001b[0;34m*\u001b[0m\u001b[0margs\u001b[0m\u001b[0;34m,\u001b[0m \u001b[0;34m**\u001b[0m\u001b[0mkwargs\u001b[0m\u001b[0;34m)\u001b[0m\u001b[0;34m\u001b[0m\u001b[0m\n\u001b[0m\u001b[1;32m    521\u001b[0m \u001b[0;34m\u001b[0m\u001b[0m\n\u001b[1;32m    522\u001b[0m                 \u001b[0;32mif\u001b[0m \u001b[0mhasattr\u001b[0m\u001b[0;34m(\u001b[0m\u001b[0mself\u001b[0m\u001b[0;34m,\u001b[0m \u001b[0;34m'load'\u001b[0m\u001b[0;34m)\u001b[0m\u001b[0;34m:\u001b[0m\u001b[0;34m\u001b[0m\u001b[0m\n",
      "\u001b[0;32m~/miniconda3/envs/gpubox/lib/python3.6/site-packages/boto3/resources/action.py\u001b[0m in \u001b[0;36m__call__\u001b[0;34m(self, parent, *args, **kwargs)\u001b[0m\n\u001b[1;32m     81\u001b[0m                     operation_name, params)\n\u001b[1;32m     82\u001b[0m \u001b[0;34m\u001b[0m\u001b[0m\n\u001b[0;32m---> 83\u001b[0;31m         \u001b[0mresponse\u001b[0m \u001b[0;34m=\u001b[0m \u001b[0mgetattr\u001b[0m\u001b[0;34m(\u001b[0m\u001b[0mparent\u001b[0m\u001b[0;34m.\u001b[0m\u001b[0mmeta\u001b[0m\u001b[0;34m.\u001b[0m\u001b[0mclient\u001b[0m\u001b[0;34m,\u001b[0m \u001b[0moperation_name\u001b[0m\u001b[0;34m)\u001b[0m\u001b[0;34m(\u001b[0m\u001b[0;34m**\u001b[0m\u001b[0mparams\u001b[0m\u001b[0;34m)\u001b[0m\u001b[0;34m\u001b[0m\u001b[0m\n\u001b[0m\u001b[1;32m     84\u001b[0m \u001b[0;34m\u001b[0m\u001b[0m\n\u001b[1;32m     85\u001b[0m         \u001b[0mlogger\u001b[0m\u001b[0;34m.\u001b[0m\u001b[0mdebug\u001b[0m\u001b[0;34m(\u001b[0m\u001b[0;34m'Response: %r'\u001b[0m\u001b[0;34m,\u001b[0m \u001b[0mresponse\u001b[0m\u001b[0;34m)\u001b[0m\u001b[0;34m\u001b[0m\u001b[0m\n",
      "\u001b[0;32m~/miniconda3/envs/gpubox/lib/python3.6/site-packages/botocore/client.py\u001b[0m in \u001b[0;36m_api_call\u001b[0;34m(self, *args, **kwargs)\u001b[0m\n\u001b[1;32m    312\u001b[0m                     \"%s() only accepts keyword arguments.\" % py_operation_name)\n\u001b[1;32m    313\u001b[0m             \u001b[0;31m# The \"self\" in this scope is referring to the BaseClient.\u001b[0m\u001b[0;34m\u001b[0m\u001b[0;34m\u001b[0m\u001b[0m\n\u001b[0;32m--> 314\u001b[0;31m             \u001b[0;32mreturn\u001b[0m \u001b[0mself\u001b[0m\u001b[0;34m.\u001b[0m\u001b[0m_make_api_call\u001b[0m\u001b[0;34m(\u001b[0m\u001b[0moperation_name\u001b[0m\u001b[0;34m,\u001b[0m \u001b[0mkwargs\u001b[0m\u001b[0;34m)\u001b[0m\u001b[0;34m\u001b[0m\u001b[0m\n\u001b[0m\u001b[1;32m    315\u001b[0m \u001b[0;34m\u001b[0m\u001b[0m\n\u001b[1;32m    316\u001b[0m         \u001b[0m_api_call\u001b[0m\u001b[0;34m.\u001b[0m\u001b[0m__name__\u001b[0m \u001b[0;34m=\u001b[0m \u001b[0mstr\u001b[0m\u001b[0;34m(\u001b[0m\u001b[0mpy_operation_name\u001b[0m\u001b[0;34m)\u001b[0m\u001b[0;34m\u001b[0m\u001b[0m\n",
      "\u001b[0;32m~/miniconda3/envs/gpubox/lib/python3.6/site-packages/botocore/client.py\u001b[0m in \u001b[0;36m_make_api_call\u001b[0;34m(self, operation_name, api_params)\u001b[0m\n\u001b[1;32m    610\u001b[0m             \u001b[0merror_code\u001b[0m \u001b[0;34m=\u001b[0m \u001b[0mparsed_response\u001b[0m\u001b[0;34m.\u001b[0m\u001b[0mget\u001b[0m\u001b[0;34m(\u001b[0m\u001b[0;34m\"Error\"\u001b[0m\u001b[0;34m,\u001b[0m \u001b[0;34m{\u001b[0m\u001b[0;34m}\u001b[0m\u001b[0;34m)\u001b[0m\u001b[0;34m.\u001b[0m\u001b[0mget\u001b[0m\u001b[0;34m(\u001b[0m\u001b[0;34m\"Code\"\u001b[0m\u001b[0;34m)\u001b[0m\u001b[0;34m\u001b[0m\u001b[0m\n\u001b[1;32m    611\u001b[0m             \u001b[0merror_class\u001b[0m \u001b[0;34m=\u001b[0m \u001b[0mself\u001b[0m\u001b[0;34m.\u001b[0m\u001b[0mexceptions\u001b[0m\u001b[0;34m.\u001b[0m\u001b[0mfrom_code\u001b[0m\u001b[0;34m(\u001b[0m\u001b[0merror_code\u001b[0m\u001b[0;34m)\u001b[0m\u001b[0;34m\u001b[0m\u001b[0m\n\u001b[0;32m--> 612\u001b[0;31m             \u001b[0;32mraise\u001b[0m \u001b[0merror_class\u001b[0m\u001b[0;34m(\u001b[0m\u001b[0mparsed_response\u001b[0m\u001b[0;34m,\u001b[0m \u001b[0moperation_name\u001b[0m\u001b[0;34m)\u001b[0m\u001b[0;34m\u001b[0m\u001b[0m\n\u001b[0m\u001b[1;32m    613\u001b[0m         \u001b[0;32melse\u001b[0m\u001b[0;34m:\u001b[0m\u001b[0;34m\u001b[0m\u001b[0m\n\u001b[1;32m    614\u001b[0m             \u001b[0;32mreturn\u001b[0m \u001b[0mparsed_response\u001b[0m\u001b[0;34m\u001b[0m\u001b[0m\n",
      "\u001b[0;31mClientError\u001b[0m: An error occurred (IncorrectState) when calling the DetachVolume operation: Volume 'vol-0581817db900cce84'is in the 'available' state."
     ]
    }
   ],
   "source": [
    "# v.detach_from_instance()"
   ]
  },
  {
   "cell_type": "code",
   "execution_count": 28,
   "metadata": {},
   "outputs": [],
   "source": [
    "v = volumes[3]"
   ]
  },
  {
   "cell_type": "code",
   "execution_count": 27,
   "metadata": {},
   "outputs": [],
   "source": [
    "v.tags"
   ]
  },
  {
   "cell_type": "code",
   "execution_count": null,
   "metadata": {},
   "outputs": [],
   "source": []
  }
 ],
 "metadata": {
  "kernelspec": {
   "display_name": "Python 3",
   "language": "python",
   "name": "python3"
  },
  "language_info": {
   "codemirror_mode": {
    "name": "ipython",
    "version": 3
   },
   "file_extension": ".py",
   "mimetype": "text/x-python",
   "name": "python",
   "nbconvert_exporter": "python",
   "pygments_lexer": "ipython3",
   "version": "3.6.5"
  }
 },
 "nbformat": 4,
 "nbformat_minor": 2
}
